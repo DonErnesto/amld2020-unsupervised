{
 "cells": [
  {
   "cell_type": "markdown",
   "metadata": {},
   "source": [
    "### Demonstration of how to connect to API and submit\n",
    "\n",
    "This notebook is to demonstrate the usage of the API for a workshop participant\n",
    "\n",
    "(i.e.: someone with no access to the ground-thruth of the Fraud data)\n",
    "\n",
    "- Submitting predictions to API\n",
    "- Collecting the previous predictions\n",
    "\n",
    "For admin/organizer usage: how to add/delete users and their labels\n"
   ]
  },
  {
   "cell_type": "code",
   "execution_count": 10,
   "metadata": {
    "collapsed": true
   },
   "outputs": [],
   "source": [
    "import os\n",
    "import requests\n",
    "import pickle\n",
    "import json\n",
    "import pandas as pd\n",
    "import sklearn\n",
    "import seaborn as sns\n",
    "import matplotlib.pyplot as plt\n",
    "%matplotlib inline\n",
    "from sklearn.preprocessing import scale as preproc_scale\n",
    "\n",
    "from sklearn.ensemble import IsolationForest\n",
    "import numpy as np\n",
    "from sklearn.metrics import roc_auc_score\n"
   ]
  },
  {
   "cell_type": "code",
   "execution_count": 2,
   "metadata": {
    "collapsed": true
   },
   "outputs": [],
   "source": [
    "%load_ext autoreload\n",
    "%autoreload 2"
   ]
  },
  {
   "cell_type": "code",
   "execution_count": 4,
   "metadata": {},
   "outputs": [],
   "source": [
    "from outlierutils import median_imputation, LabelSubmitter, plot_outlier_scores, plot_top_N"
   ]
  },
  {
   "cell_type": "code",
   "execution_count": 5,
   "metadata": {
    "collapsed": true
   },
   "outputs": [],
   "source": [
    "X_FRAUD_PATH = 'data/x_fraud.pkl'\n",
    "X_PEN_PATH = 'data/x_pendigits.pkl'\n",
    "Y_PEN_PATH = 'data/y_pendigits.pkl'\n",
    "# Y_DATA_PATH = 'data/y_fraud.pkl'"
   ]
  },
  {
   "cell_type": "markdown",
   "metadata": {},
   "source": [
    "## Load data"
   ]
  },
  {
   "cell_type": "code",
   "execution_count": 7,
   "metadata": {},
   "outputs": [],
   "source": [
    "x_fraud = pd.read_pickle(X_FRAUD_PATH)\n",
    "x_pen = pd.read_pickle(X_PEN_PATH) \n",
    "y_pen = pd.read_pickle(Y_PEN_PATH)\n"
   ]
  },
  {
   "cell_type": "markdown",
   "metadata": {},
   "source": [
    "## Prepare data\n",
    "#### 1) Fraud data"
   ]
  },
  {
   "cell_type": "markdown",
   "metadata": {},
   "source": [
    "Convert V-columns"
   ]
  },
  {
   "cell_type": "code",
   "execution_count": 8,
   "metadata": {
    "collapsed": true
   },
   "outputs": [],
   "source": [
    "column_groups = {'card': [c for c in x_fraud.columns if c.startswith('card')],\n",
    "                   'addr': [c for c in x_fraud.columns if c.startswith('addr')],\n",
    "                   'dist1': ['dist1', 'dist2'],\n",
    "                   'C' : [c for c in x_fraud.columns if c.startswith('C')],\n",
    "                   'D' : [c for c in x_fraud.columns if c.lstrip('D').isnumeric()],\n",
    "                   'M' : [c for c in x_fraud.columns if c.startswith('M')],\n",
    "                   'id' : [c for c in x_fraud.columns if c.startswith('id')],   \n",
    "                   'V': [c for c in x_fraud.columns if c.startswith('V')],\n",
    "                   'trans': [c for c in x_fraud.columns if c.startswith('Trans')]}\n"
   ]
  },
  {
   "cell_type": "code",
   "execution_count": 11,
   "metadata": {},
   "outputs": [],
   "source": [
    "V_original = median_imputation(x_fraud[column_groups['V']], median_impute_limit=0)\n",
    "V_original = preproc_scale(V_original)"
   ]
  },
  {
   "cell_type": "markdown",
   "metadata": {},
   "source": [
    "#### 2) Pendigits --needs no preproc --"
   ]
  },
  {
   "cell_type": "markdown",
   "metadata": {},
   "source": [
    "## Outlier detection\n",
    "### 1) Fraud data"
   ]
  },
  {
   "cell_type": "code",
   "execution_count": 12,
   "metadata": {},
   "outputs": [],
   "source": [
    "ifo = IsolationForest(n_estimators=50, max_samples=512)\n",
    "ifo.fit(V_original)\n",
    "fraud_scores = - ifo.decision_function(V_original)\n"
   ]
  },
  {
   "cell_type": "code",
   "execution_count": 13,
   "metadata": {},
   "outputs": [],
   "source": [
    "# Select the top-1000 \n",
    "N = 1000\n",
    "top_N_fraud = np.argsort(fraud_scores)[::-1][:N]\n",
    "top_N_fraud_scores = fraud_scores[top_N_fraud]"
   ]
  },
  {
   "cell_type": "markdown",
   "metadata": {},
   "source": [
    "### 2) Pen digits data"
   ]
  },
  {
   "cell_type": "code",
   "execution_count": 14,
   "metadata": {
    "collapsed": true
   },
   "outputs": [],
   "source": [
    "ifo = IsolationForest(n_estimators=50, max_samples=512)\n",
    "ifo.fit(x_pen)\n",
    "pen_scores = - ifo.decision_function(x_pen)"
   ]
  },
  {
   "cell_type": "code",
   "execution_count": 15,
   "metadata": {},
   "outputs": [],
   "source": [
    "# Select the top-500 \n",
    "N = 500\n",
    "top_N_pen = np.argsort(pen_scores)[::-1][:N]\n",
    "top_N_pen_scores = pen_scores[top_N_pen]"
   ]
  },
  {
   "cell_type": "markdown",
   "metadata": {},
   "source": [
    "####  Small interlude: plot some curves to see how well the algorithm performs"
   ]
  },
  {
   "cell_type": "code",
   "execution_count": 16,
   "metadata": {},
   "outputs": [
    {
     "data": {
      "image/png": "[encoded data removed]",
      "text/plain": [
       "<Figure size 432x288 with 1 Axes>"
      ]
     },
     "metadata": {},
     "output_type": "display_data"
    }
   ],
   "source": [
    "res = plot_outlier_scores(y_pen.values, pen_scores, bw=0.005, title='Pen digits, isoForest. ')"
   ]
  },
  {
   "cell_type": "code",
   "execution_count": 17,
   "metadata": {},
   "outputs": [
    {
     "data": {
      "text/plain": [
       "'0.203%'"
      ]
     },
     "execution_count": 17,
     "metadata": {},
     "output_type": "execute_result"
    }
   ],
   "source": [
    "'{:.3%}'.format(y_pen.mean())"
   ]
  },
  {
   "cell_type": "code",
   "execution_count": 18,
   "metadata": {},
   "outputs": [
    {
     "data": {
      "image/png": "[encoded data removed]",
      "text/plain": [
       "<Figure size 1152x144 with 2 Axes>"
      ]
     },
     "metadata": {},
     "output_type": "display_data"
    }
   ],
   "source": [
    "res = plot_top_N(y_pen.values, pen_scores, N=int(0.1*len(pen_scores)))"
   ]
  },
  {
   "cell_type": "markdown",
   "metadata": {},
   "source": [
    "## Submit to API"
   ]
  },
  {
   "cell_type": "markdown",
   "metadata": {},
   "source": [
    "#### \"Front-end\" Class definition"
   ]
  },
  {
   "cell_type": "code",
   "execution_count": 20,
   "metadata": {},
   "outputs": [],
   "source": [
    "import functools\n",
    "\n",
    "def admin_only(func):\n",
    "    \"\"\" Decorator for \"dangerous\" functions\n",
    "    \"\"\"\n",
    "    @functools.wraps(func)\n",
    "    def wrapper_decorator(*args, **kwargs):\n",
    "        if not args[0].username == 'admin': #NB: first arg to an object-method is self\n",
    "            print('Admin only!')\n",
    "            return None\n",
    "        if not kwargs.get('iknowwhatiamdoing', None):\n",
    "            print('pass iknowwhatiamdoing=True to execute this')\n",
    "            return None\n",
    "        value = func(*args, **kwargs)\n",
    "        return value\n",
    "    return wrapper_decorator\n",
    "\n",
    "class LabelSubmitter():\n",
    "    def __init__(self, username, password, url='http://127.0.0.1:5000'):\n",
    "        self.username = username\n",
    "        self.password = password\n",
    "        self.jwt_token = None\n",
    "        self.base_url = url\n",
    "        self.last_labels = None\n",
    "        self.all_labels = None\n",
    "    \n",
    "    def get_jwt_token(self):\n",
    "        \"\"\" Posts to /auth\n",
    "        \"\"\"\n",
    "        auth = requests.post(self.base_url + '/auth', json={\"username\": f\"{self.username}\",\n",
    "                \"password\": f\"{self.password}\"})\n",
    "        try:\n",
    "            self.jwt_token = json.loads(auth.text)['access_token']\n",
    "        except KeyError:\n",
    "            return auth\n",
    "    \n",
    "    def post_predictions(self, idx, endpoint='pen'):\n",
    "        \"\"\" Posts to /label\n",
    "        sets self.last_labels\n",
    "        \"\"\"\n",
    "        idx = [int(n) for n in idx] # replace numpy array and int64 by list with ints\n",
    "        res = requests.post(url=self.base_url + '/label/{}'.format(endpoint), \n",
    "                    json={'data': {'idx': idx}},\n",
    "                   headers={'Authorization': 'JWT {}'.format(self.jwt_token)})\n",
    "        self.res = res\n",
    "        try:\n",
    "            result = json.loads(res.text)['result']\n",
    "            unzips = list(zip(*result))\n",
    "            labels = pd.Series(index=unzips[0], data=unzips[1]).sort_index()\n",
    "            self.last_labels = labels \n",
    "            \n",
    "            print(json.loads(res.text)['info'])\n",
    "            print('number of positives in submission: {:d}'.format(int(labels.sum())))\n",
    "            print('precision of submission: {:.2%}'.format(labels.mean()))\n",
    "        except Exception:\n",
    "            print(json.loads(res.text))\n",
    "        \n",
    "    def get_labels(self, endpoint='pen'):\n",
    "        \"\"\" 'Gets' to /label\n",
    "        sets self.all_labels\n",
    "        \"\"\"\n",
    "        try:\n",
    "            res = requests.get(url=self.base_url + '/label/{}'.format(endpoint), \n",
    "                       headers={'Authorization': 'JWT {}'.format(self.jwt_token)}) \n",
    "            result = json.loads(res.text)['result']\n",
    "            unzips = list(zip(*result))\n",
    "            labels = pd.Series(index=unzips[0], data=unzips[1]).sort_index()\n",
    "            self.all_labels = labels\n",
    "            print('number of predictions made: {:d}'.format(int(len(labels))))\n",
    "            print('total number of positives found: {:d}'.format(int(labels.sum())))\n",
    "            print('total precision: {:.2%}'.format(labels.mean()))\n",
    "            return labels\n",
    "        except Exception:\n",
    "            print(json.loads(res.text))\n",
    "            \n",
    "    def get_statistics(self, endpoint='pen', plot=True):\n",
    "        res = requests.get(url=self.base_url + '/labelstats/{}'.format(endpoint), \n",
    "           headers={'Authorization': 'JWT {}'.format(self.jwt_token)}) \n",
    "        stats = json.loads(res.text)['result']\n",
    "        stats_df = pd.DataFrame.from_dict(stats).T\n",
    "        stats_df['precision'] = 100 * stats_df['N_positives_found'] / stats_df['N_submitted']\n",
    "        if plot:\n",
    "            fig, axs = plt.subplots(2, 1, figsize=(12,6))\n",
    "            stats_df['N_submitted'].plot(kind='bar', ax=axs[0])\n",
    "            stats_df['precision'].plot(kind='bar', ax=axs[1])\n",
    "            axs[0].set_title('Number of submitted points')\n",
    "            axs[1].set_title('Precision [%]')\n",
    "            plt.tight_layout()\n",
    "        return stats_df\n",
    "    \n",
    "    def add_user(self, username, password):\n",
    "        res = requests.post(url=self.base_url + '/newuser', \n",
    "           headers={'Authorization': 'JWT {}'.format(self.jwt_token)},\n",
    "            json={'username': username,\n",
    "                          'password': password}\n",
    "                           ) \n",
    "        print(json.loads(res.text))\n",
    "        \n",
    "    @admin_only\n",
    "    def delete_user(self, username, iknowwhatiamdoing=False):\n",
    "        res = requests.delete(url=self.base_url + '/removeuser/{}'.format(username), \n",
    "           headers={'Authorization': 'JWT {}'.format(self.jwt_token)}) \n",
    "        print(json.loads(res.text))\n",
    "        \n",
    "    @admin_only\n",
    "    def delete_labels(self, username, endpoint='pen'):\n",
    "        res = requests.delete(url=self.base_url + '/labeladmin/{}'.format(username), \n",
    "           headers={'Authorization': 'JWT {}'.format(self.jwt_token)}) \n",
    "        print(json.loads(res.text))\n"
   ]
  },
  {
   "cell_type": "markdown",
   "metadata": {},
   "source": [
    "## Submitting at heroku"
   ]
  },
  {
   "cell_type": "code",
   "execution_count": 25,
   "metadata": {
    "collapsed": true
   },
   "outputs": [],
   "source": [
    "url = \"https://unsupervised-label-api-pg.herokuapp.com/\"\n",
    "#url = 'http://127.0.0.1:5000' #localhost\n"
   ]
  },
  {
   "cell_type": "markdown",
   "metadata": {},
   "source": [
    "** Start with submitting to 'pendigits'"
   ]
  },
  {
   "cell_type": "markdown",
   "metadata": {},
   "source": [
    "**1.** Test submission by organizer to pendigits endpoint"
   ]
  },
  {
   "cell_type": "code",
   "execution_count": 26,
   "metadata": {
    "collapsed": true
   },
   "outputs": [],
   "source": [
    "ls_remote = LabelSubmitter(username='ernst', \n",
    "                           password='2718_', \n",
    "                           url=url)\n",
    "ls_remote.get_jwt_token()"
   ]
  },
  {
   "cell_type": "code",
   "execution_count": 27,
   "metadata": {},
   "outputs": [
    {
     "name": "stdout",
     "output_type": "stream",
     "text": [
      "submitted 0 new points\n",
      "number of positives in submission: 6\n",
      "precision of submission: 1.20%\n"
     ]
    }
   ],
   "source": [
    "ls_remote.post_predictions(top_N_pen, endpoint='pen')"
   ]
  },
  {
   "cell_type": "markdown",
   "metadata": {},
   "source": [
    "**2.** Test that upon 2nd submission, 0 new points are reported, but same stats"
   ]
  },
  {
   "cell_type": "code",
   "execution_count": 28,
   "metadata": {},
   "outputs": [
    {
     "name": "stdout",
     "output_type": "stream",
     "text": [
      "submitted 0 new points\n",
      "number of positives in submission: 6\n",
      "precision of submission: 1.20%\n"
     ]
    }
   ],
   "source": [
    "ls_remote.post_predictions(top_N_pen, endpoint='pen')"
   ]
  },
  {
   "cell_type": "markdown",
   "metadata": {},
   "source": [
    "**3.** Test retrieval of submitted labels"
   ]
  },
  {
   "cell_type": "code",
   "execution_count": 29,
   "metadata": {},
   "outputs": [
    {
     "name": "stdout",
     "output_type": "stream",
     "text": [
      "number of predictions made: 1040\n",
      "total number of positives found: 10\n",
      "total precision: 0.96%\n"
     ]
    }
   ],
   "source": [
    "pen_labels = ls_remote.get_labels(endpoint='pen')"
   ]
  },
  {
   "cell_type": "markdown",
   "metadata": {},
   "source": [
    "**4.** Submit for other user, to pendigits"
   ]
  },
  {
   "cell_type": "code",
   "execution_count": 30,
   "metadata": {},
   "outputs": [
    {
     "name": "stdout",
     "output_type": "stream",
     "text": [
      "submitted 72 new points\n",
      "number of positives in submission: 1\n",
      "precision of submission: 0.50%\n"
     ]
    }
   ],
   "source": [
    "ls_remote = LabelSubmitter(username='test', \n",
    "                           password='2718_', \n",
    "                           url=url)\n",
    "ls_remote.get_jwt_token()\n",
    "ls_remote.post_predictions(top_N_pen[:200], endpoint='pen')"
   ]
  },
  {
   "cell_type": "markdown",
   "metadata": {},
   "source": [
    "**5.** Submit  for 'fraud' **"
   ]
  },
  {
   "cell_type": "code",
   "execution_count": 31,
   "metadata": {},
   "outputs": [
    {
     "name": "stdout",
     "output_type": "stream",
     "text": [
      "submitted 277 new points\n",
      "number of positives in submission: 221\n",
      "precision of submission: 22.10%\n"
     ]
    }
   ],
   "source": [
    "ls_remote.post_predictions(top_N_fraud, endpoint='fraud')"
   ]
  },
  {
   "cell_type": "code",
   "execution_count": 32,
   "metadata": {},
   "outputs": [
    {
     "name": "stdout",
     "output_type": "stream",
     "text": [
      "number of predictions made: 1277\n",
      "total number of positives found: 321\n",
      "total precision: 25.14%\n"
     ]
    }
   ],
   "source": [
    "fraud_labels = ls_remote.get_labels(endpoint='fraud')"
   ]
  },
  {
   "cell_type": "markdown",
   "metadata": {},
   "source": [
    "**6.** Plotting statistics *(NB: only for admin or workshop organizers: plotting statistics)*"
   ]
  },
  {
   "cell_type": "code",
   "execution_count": 69,
   "metadata": {},
   "outputs": [
    {
     "data": {
      "text/html": [
       "<div>\n",
       "<style scoped>\n",
       "    .dataframe tbody tr th:only-of-type {\n",
       "        vertical-align: middle;\n",
       "    }\n",
       "\n",
       "    .dataframe tbody tr th {\n",
       "        vertical-align: top;\n",
       "    }\n",
       "\n",
       "    .dataframe thead th {\n",
       "        text-align: right;\n",
       "    }\n",
       "</style>\n",
       "<table border=\"1\" class=\"dataframe\">\n",
       "  <thead>\n",
       "    <tr style=\"text-align: right;\">\n",
       "      <th></th>\n",
       "      <th>N_positives_found</th>\n",
       "      <th>N_submitted</th>\n",
       "      <th>precision</th>\n",
       "    </tr>\n",
       "  </thead>\n",
       "  <tbody>\n",
       "    <tr>\n",
       "      <th>admin</th>\n",
       "      <td>0.0</td>\n",
       "      <td>0.0</td>\n",
       "      <td>NaN</td>\n",
       "    </tr>\n",
       "    <tr>\n",
       "      <th>steffen</th>\n",
       "      <td>0.0</td>\n",
       "      <td>0.0</td>\n",
       "      <td>NaN</td>\n",
       "    </tr>\n",
       "    <tr>\n",
       "      <th>alessandro</th>\n",
       "      <td>0.0</td>\n",
       "      <td>0.0</td>\n",
       "      <td>NaN</td>\n",
       "    </tr>\n",
       "    <tr>\n",
       "      <th>theo</th>\n",
       "      <td>0.0</td>\n",
       "      <td>0.0</td>\n",
       "      <td>NaN</td>\n",
       "    </tr>\n",
       "    <tr>\n",
       "      <th>giulio</th>\n",
       "      <td>0.0</td>\n",
       "      <td>0.0</td>\n",
       "      <td>NaN</td>\n",
       "    </tr>\n",
       "    <tr>\n",
       "      <th>ernst</th>\n",
       "      <td>10.0</td>\n",
       "      <td>1040.0</td>\n",
       "      <td>0.961538</td>\n",
       "    </tr>\n",
       "    <tr>\n",
       "      <th>test</th>\n",
       "      <td>1.0</td>\n",
       "      <td>272.0</td>\n",
       "      <td>0.367647</td>\n",
       "    </tr>\n",
       "  </tbody>\n",
       "</table>\n",
       "</div>"
      ],
      "text/plain": [
       "            N_positives_found  N_submitted  precision\n",
       "admin                     0.0          0.0        NaN\n",
       "steffen                   0.0          0.0        NaN\n",
       "alessandro                0.0          0.0        NaN\n",
       "theo                      0.0          0.0        NaN\n",
       "giulio                    0.0          0.0        NaN\n",
       "ernst                    10.0       1040.0   0.961538\n",
       "test                      1.0        272.0   0.367647"
      ]
     },
     "execution_count": 69,
     "metadata": {},
     "output_type": "execute_result"
    },
    {
     "data": {
      "image/png": "[encoded data removed]",
      "text/plain": [
       "<Figure size 864x432 with 2 Axes>"
      ]
     },
     "metadata": {},
     "output_type": "display_data"
    }
   ],
   "source": [
    "ls_remote.get_statistics(endpoint='pen')"
   ]
  },
  {
   "cell_type": "markdown",
   "metadata": {},
   "source": [
    "** 6.** Add-users *(Admin only!)*"
   ]
  },
  {
   "cell_type": "code",
   "execution_count": 44,
   "metadata": {},
   "outputs": [],
   "source": [
    "api_pwd = os.environ.get(\"api_admin_pw\")"
   ]
  },
  {
   "cell_type": "code",
   "execution_count": 48,
   "metadata": {},
   "outputs": [
    {
     "name": "stdout",
     "output_type": "stream",
     "text": [
      "{'message': 'User papacito created successfully.'}\n"
     ]
    }
   ],
   "source": [
    "ls_admin = LabelSubmitter(username='admin', \n",
    "                           password=api_pwd, \n",
    "                           url=url)\n",
    "ls_admin.get_jwt_token()\n",
    "ls_admin.add_user(username='papacito', password='2345_')"
   ]
  },
  {
   "cell_type": "markdown",
   "metadata": {},
   "source": [
    "** 7. ** Let Papacito do his thing and submit to \"fraud\""
   ]
  },
  {
   "cell_type": "code",
   "execution_count": 51,
   "metadata": {
    "collapsed": true
   },
   "outputs": [],
   "source": [
    "ls_papacito = LabelSubmitter(username='papacito', \n",
    "                           password='2345_', \n",
    "                           url=url)\n",
    "\n",
    "ls_papacito.get_jwt_token()"
   ]
  },
  {
   "cell_type": "code",
   "execution_count": 52,
   "metadata": {},
   "outputs": [
    {
     "name": "stdout",
     "output_type": "stream",
     "text": [
      "submitted 200 new points\n",
      "number of positives in submission: 49\n",
      "precision of submission: 24.50%\n"
     ]
    }
   ],
   "source": [
    "ls_papacito.post_predictions(top_N_fraud[-200:], endpoint='fraud')"
   ]
  },
  {
   "cell_type": "code",
   "execution_count": 68,
   "metadata": {},
   "outputs": [
    {
     "data": {
      "image/png": "[encoded data removed]",
      "text/plain": [
       "<Figure size 864x432 with 2 Axes>"
      ]
     },
     "metadata": {},
     "output_type": "display_data"
    }
   ],
   "source": [
    "stats = ls_admin.get_statistics(endpoint='fraud')"
   ]
  },
  {
   "cell_type": "markdown",
   "metadata": {},
   "source": [
    "** 8. ** Delete papacito and create another new user. This user should have no labels (clean-up of \"orphaned\" labels)"
   ]
  },
  {
   "cell_type": "code",
   "execution_count": 54,
   "metadata": {},
   "outputs": [
    {
     "name": "stdout",
     "output_type": "stream",
     "text": [
      "{'message': 'User papacito removed successfully.'}\n"
     ]
    }
   ],
   "source": [
    "ls_admin.delete_user('papacito', iknowwhatiamdoing=True)"
   ]
  },
  {
   "cell_type": "code",
   "execution_count": 55,
   "metadata": {},
   "outputs": [
    {
     "name": "stdout",
     "output_type": "stream",
     "text": [
      "{'message': 'User mamacita created successfully.'}\n"
     ]
    }
   ],
   "source": [
    "ls_admin.add_user(username='mamacita', password='2345_')"
   ]
  },
  {
   "cell_type": "code",
   "execution_count": 56,
   "metadata": {},
   "outputs": [
    {
     "name": "stdout",
     "output_type": "stream",
     "text": [
      "submitted 120 new points\n",
      "number of positives in submission: 29\n",
      "precision of submission: 24.17%\n"
     ]
    }
   ],
   "source": [
    "ls_mamacita = LabelSubmitter(username='mamacita', \n",
    "                           password='2345_', \n",
    "                           url=url)\n",
    "\n",
    "ls_mamacita.get_jwt_token()\n",
    "ls_mamacita.post_predictions(top_N_fraud[-120:], endpoint='fraud')"
   ]
  },
  {
   "cell_type": "code",
   "execution_count": 60,
   "metadata": {},
   "outputs": [
    {
     "name": "stdout",
     "output_type": "stream",
     "text": [
      "number of predictions made: 120\n",
      "total number of positives found: 29\n",
      "total precision: 24.17%\n"
     ]
    }
   ],
   "source": [
    "labels = ls_mamacita.get_labels(endpoint='fraud')"
   ]
  },
  {
   "cell_type": "markdown",
   "metadata": {},
   "source": [
    "** 9. ** Try to add an existing user (should fail) [NB: the blocking in the class is merely an extra warning. It is also blocked in the API]"
   ]
  },
  {
   "cell_type": "code",
   "execution_count": 61,
   "metadata": {},
   "outputs": [
    {
     "name": "stdout",
     "output_type": "stream",
     "text": [
      "{'message': 'user already exists'}\n"
     ]
    }
   ],
   "source": [
    "ls_admin.add_user(username='test', password='2345_')"
   ]
  },
  {
   "cell_type": "markdown",
   "metadata": {},
   "source": [
    "** 10. ** Try to delete a user as a non-admin (should fail)"
   ]
  },
  {
   "cell_type": "code",
   "execution_count": 62,
   "metadata": {},
   "outputs": [
    {
     "name": "stdout",
     "output_type": "stream",
     "text": [
      "Admin only!\n"
     ]
    }
   ],
   "source": [
    "ls_mamacita.delete_user('test')"
   ]
  },
  {
   "cell_type": "code",
   "execution_count": 63,
   "metadata": {},
   "outputs": [
    {
     "name": "stdout",
     "output_type": "stream",
     "text": [
      "Admin only!\n"
     ]
    }
   ],
   "source": [
    "ls_remote.delete_user('test')"
   ]
  },
  {
   "cell_type": "markdown",
   "metadata": {},
   "source": [
    "** 11. ** Try to delete labels as a non-admin (should fail)"
   ]
  },
  {
   "cell_type": "code",
   "execution_count": 64,
   "metadata": {},
   "outputs": [
    {
     "name": "stdout",
     "output_type": "stream",
     "text": [
      "Admin only!\n"
     ]
    }
   ],
   "source": [
    "ls_mamacita.delete_labels('test')"
   ]
  },
  {
   "cell_type": "code",
   "execution_count": null,
   "metadata": {
    "collapsed": true
   },
   "outputs": [],
   "source": []
  },
  {
   "cell_type": "markdown",
   "metadata": {},
   "source": [
    "** 12. Try to accidentally remove user/labels as admin (not passing iknowwhatiamdoing **\n"
   ]
  },
  {
   "cell_type": "code",
   "execution_count": 65,
   "metadata": {},
   "outputs": [
    {
     "name": "stdout",
     "output_type": "stream",
     "text": [
      "pass iknowwhatiamdoing=True to execute this\n"
     ]
    }
   ],
   "source": [
    "ls_admin.delete_labels(username='mamacita', endpoint='fraud')"
   ]
  },
  {
   "cell_type": "code",
   "execution_count": 66,
   "metadata": {},
   "outputs": [
    {
     "name": "stdout",
     "output_type": "stream",
     "text": [
      "pass iknowwhatiamdoing=True to execute this\n"
     ]
    }
   ],
   "source": [
    "ls_admin.delete_user(username='mamacita', endpoint='fraud')"
   ]
  },
  {
   "cell_type": "markdown",
   "metadata": {},
   "source": [
    "### Clean-up"
   ]
  },
  {
   "cell_type": "code",
   "execution_count": 67,
   "metadata": {},
   "outputs": [
    {
     "name": "stdout",
     "output_type": "stream",
     "text": [
      "{'message': 'user not found'}\n",
      "{'message': 'User mamacita removed successfully.'}\n"
     ]
    }
   ],
   "source": [
    "ls_admin.delete_user('papacito', iknowwhatiamdoing=True)\n",
    "ls_admin.delete_user('mamacita', iknowwhatiamdoing=True)"
   ]
  },
  {
   "cell_type": "code",
   "execution_count": null,
   "metadata": {
    "collapsed": true
   },
   "outputs": [],
   "source": []
  },
  {
   "cell_type": "code",
   "execution_count": null,
   "metadata": {
    "collapsed": true
   },
   "outputs": [],
   "source": []
  }
 ],
 "metadata": {
  "kernelspec": {
   "display_name": "Python 3",
   "language": "python",
   "name": "python3"
  },
  "language_info": {
   "codemirror_mode": {
    "name": "ipython",
    "version": 3
   },
   "file_extension": ".py",
   "mimetype": "text/x-python",
   "name": "python",
   "nbconvert_exporter": "python",
   "pygments_lexer": "ipython3",
   "version": "3.6.8"
  }
 },
 "nbformat": 4,
 "nbformat_minor": 2
}
