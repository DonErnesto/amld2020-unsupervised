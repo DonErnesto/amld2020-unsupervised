{
 "cells": [
  {
   "cell_type": "markdown",
   "metadata": {},
   "source": [
    "## Using the labeling API on a mixed dataset (KDD cup '99)\n",
    "\n",
    "This Notebook demonstrates several outlier techniques used on the KDD cup dataset, and how these results are submitted.\n",
    "\n"
   ]
  },
  {
   "cell_type": "code",
   "execution_count": 1,
   "metadata": {},
   "outputs": [
    {
     "name": "stderr",
     "output_type": "stream",
     "text": [
      "Using TensorFlow backend.\n"
     ]
    }
   ],
   "source": [
    "# standard library imports\n",
    "import os\n",
    "import sys\n",
    "from collections import Counter\n",
    "\n",
    "# pandas, seaborn etc.\n",
    "import seaborn as sns\n",
    "import sklearn \n",
    "import matplotlib.pyplot as plt\n",
    "%matplotlib inline\n",
    "import pandas as pd\n",
    "import numpy as np\n",
    "\n",
    "# sklearn outlier models\n",
    "from sklearn.neighbors import NearestNeighbors\n",
    "from sklearn.neighbors import LocalOutlierFactor\n",
    "from sklearn.ensemble import IsolationForest\n",
    "from sklearn.cluster import DBSCAN\n",
    "\n",
    "# other sklearn functions\n",
    "from sklearn.decomposition import PCA\n",
    "from sklearn.covariance import MinCovDet, EmpiricalCovariance\n",
    "from sklearn.metrics import roc_auc_score\n",
    "from sklearn.preprocessing import StandardScaler, RobustScaler, MinMaxScaler\n",
    "from sklearn.preprocessing import LabelEncoder\n",
    "\n",
    "# pyod\n",
    "import pyod\n",
    "from pyod.models.auto_encoder import AutoEncoder\n",
    "from pyod.models.knn import KNN   \n",
    "\n",
    "sys.path.append(\"..\") #to enable importing from ../outlierutils\n"
   ]
  },
  {
   "cell_type": "code",
   "execution_count": 2,
   "metadata": {},
   "outputs": [],
   "source": [
    "from outlierutils import plot_top_N, plot_outlier_scores, LabelSubmitter"
   ]
  },
  {
   "cell_type": "code",
   "execution_count": 3,
   "metadata": {},
   "outputs": [],
   "source": [
    "%load_ext autoreload\n",
    "%autoreload 2"
   ]
  },
  {
   "cell_type": "markdown",
   "metadata": {},
   "source": [
    "### Import data"
   ]
  },
  {
   "cell_type": "code",
   "execution_count": 4,
   "metadata": {},
   "outputs": [],
   "source": [
    "data_path = '../data/'"
   ]
  },
  {
   "cell_type": "code",
   "execution_count": 5,
   "metadata": {},
   "outputs": [
    {
     "name": "stdout",
     "output_type": "stream",
     "text": [
      "Shape of the X-data: (60839, 41)\n",
      "Shape of the prepared X-data: (48113, 79)\n",
      "Mean of the y variable: 0.42% (in prepared)\n"
     ]
    }
   ],
   "source": [
    "x_kdd = pd.read_pickle(os.path.join(data_path, 'x_kdd.pkl'))\n",
    "x_kdd_prepared = pd.read_pickle(os.path.join(data_path, 'x_kdd_prepared.pkl'))\n",
    "\n",
    "y_kdd = pd.read_pickle(os.path.join(data_path, 'y_kdd.pkl'))\n",
    "y_kdd_prepared = pd.read_pickle(os.path.join(data_path, 'y_kdd_prepared.pkl'))\n",
    "\n",
    "print('Shape of the X-data: {}'.format(x_kdd.shape))\n",
    "print('Shape of the prepared X-data: {}'.format(x_kdd_prepared.shape))\n",
    "print('Mean of the y variable: {:.2%} (in prepared)'.format(y_kdd_prepared.mean()))"
   ]
  },
  {
   "cell_type": "code",
   "execution_count": null,
   "metadata": {},
   "outputs": [],
   "source": []
  },
  {
   "cell_type": "code",
   "execution_count": 6,
   "metadata": {},
   "outputs": [
    {
     "data": {
      "text/html": [
       "<div>\n",
       "<style scoped>\n",
       "    .dataframe tbody tr th:only-of-type {\n",
       "        vertical-align: middle;\n",
       "    }\n",
       "\n",
       "    .dataframe tbody tr th {\n",
       "        vertical-align: top;\n",
       "    }\n",
       "\n",
       "    .dataframe thead th {\n",
       "        text-align: right;\n",
       "    }\n",
       "</style>\n",
       "<table border=\"1\" class=\"dataframe\">\n",
       "  <thead>\n",
       "    <tr style=\"text-align: right;\">\n",
       "      <th></th>\n",
       "      <th>protocol_type = udp</th>\n",
       "      <th>protocol_type = tcp</th>\n",
       "      <th>protocol_type = icmp</th>\n",
       "      <th>service = private</th>\n",
       "      <th>service = domain_u</th>\n",
       "      <th>service = http</th>\n",
       "      <th>service = smtp</th>\n",
       "      <th>service = ftp_data</th>\n",
       "      <th>service = ftp</th>\n",
       "      <th>service = eco_i</th>\n",
       "      <th>...</th>\n",
       "      <th>dst_host_count</th>\n",
       "      <th>dst_host_srv_count</th>\n",
       "      <th>dst_host_same_srv_rate</th>\n",
       "      <th>dst_host_diff_srv_rate</th>\n",
       "      <th>dst_host_same_src_port_rate</th>\n",
       "      <th>dst_host_srv_diff_host_rate</th>\n",
       "      <th>dst_host_serror_rate</th>\n",
       "      <th>dst_host_srv_serror_rate</th>\n",
       "      <th>dst_host_rerror_rate</th>\n",
       "      <th>dst_host_srv_rerror_rate</th>\n",
       "    </tr>\n",
       "  </thead>\n",
       "  <tbody>\n",
       "    <tr>\n",
       "      <th>0</th>\n",
       "      <td>0.0</td>\n",
       "      <td>1.0</td>\n",
       "      <td>0.0</td>\n",
       "      <td>0.0</td>\n",
       "      <td>0.0</td>\n",
       "      <td>1.0</td>\n",
       "      <td>0.0</td>\n",
       "      <td>0.0</td>\n",
       "      <td>0.0</td>\n",
       "      <td>0.0</td>\n",
       "      <td>...</td>\n",
       "      <td>0.062745</td>\n",
       "      <td>0.968627</td>\n",
       "      <td>1.00</td>\n",
       "      <td>0.00</td>\n",
       "      <td>0.06</td>\n",
       "      <td>0.02</td>\n",
       "      <td>0.0</td>\n",
       "      <td>0.0</td>\n",
       "      <td>0.0</td>\n",
       "      <td>0.0</td>\n",
       "    </tr>\n",
       "    <tr>\n",
       "      <th>1</th>\n",
       "      <td>0.0</td>\n",
       "      <td>1.0</td>\n",
       "      <td>0.0</td>\n",
       "      <td>0.0</td>\n",
       "      <td>0.0</td>\n",
       "      <td>1.0</td>\n",
       "      <td>0.0</td>\n",
       "      <td>0.0</td>\n",
       "      <td>0.0</td>\n",
       "      <td>0.0</td>\n",
       "      <td>...</td>\n",
       "      <td>0.015686</td>\n",
       "      <td>1.000000</td>\n",
       "      <td>1.00</td>\n",
       "      <td>0.00</td>\n",
       "      <td>0.25</td>\n",
       "      <td>0.02</td>\n",
       "      <td>0.0</td>\n",
       "      <td>0.0</td>\n",
       "      <td>0.0</td>\n",
       "      <td>0.0</td>\n",
       "    </tr>\n",
       "    <tr>\n",
       "      <th>2</th>\n",
       "      <td>0.0</td>\n",
       "      <td>1.0</td>\n",
       "      <td>0.0</td>\n",
       "      <td>0.0</td>\n",
       "      <td>0.0</td>\n",
       "      <td>0.0</td>\n",
       "      <td>0.0</td>\n",
       "      <td>1.0</td>\n",
       "      <td>0.0</td>\n",
       "      <td>0.0</td>\n",
       "      <td>...</td>\n",
       "      <td>0.145098</td>\n",
       "      <td>0.211765</td>\n",
       "      <td>0.49</td>\n",
       "      <td>0.08</td>\n",
       "      <td>0.49</td>\n",
       "      <td>0.04</td>\n",
       "      <td>0.0</td>\n",
       "      <td>0.0</td>\n",
       "      <td>0.0</td>\n",
       "      <td>0.0</td>\n",
       "    </tr>\n",
       "    <tr>\n",
       "      <th>3</th>\n",
       "      <td>0.0</td>\n",
       "      <td>1.0</td>\n",
       "      <td>0.0</td>\n",
       "      <td>0.0</td>\n",
       "      <td>0.0</td>\n",
       "      <td>1.0</td>\n",
       "      <td>0.0</td>\n",
       "      <td>0.0</td>\n",
       "      <td>0.0</td>\n",
       "      <td>0.0</td>\n",
       "      <td>...</td>\n",
       "      <td>1.000000</td>\n",
       "      <td>1.000000</td>\n",
       "      <td>1.00</td>\n",
       "      <td>0.00</td>\n",
       "      <td>0.00</td>\n",
       "      <td>0.00</td>\n",
       "      <td>0.0</td>\n",
       "      <td>0.0</td>\n",
       "      <td>0.0</td>\n",
       "      <td>0.0</td>\n",
       "    </tr>\n",
       "    <tr>\n",
       "      <th>4</th>\n",
       "      <td>0.0</td>\n",
       "      <td>1.0</td>\n",
       "      <td>0.0</td>\n",
       "      <td>0.0</td>\n",
       "      <td>0.0</td>\n",
       "      <td>1.0</td>\n",
       "      <td>0.0</td>\n",
       "      <td>0.0</td>\n",
       "      <td>0.0</td>\n",
       "      <td>0.0</td>\n",
       "      <td>...</td>\n",
       "      <td>1.000000</td>\n",
       "      <td>1.000000</td>\n",
       "      <td>1.00</td>\n",
       "      <td>0.00</td>\n",
       "      <td>0.00</td>\n",
       "      <td>0.00</td>\n",
       "      <td>0.0</td>\n",
       "      <td>0.0</td>\n",
       "      <td>0.0</td>\n",
       "      <td>0.0</td>\n",
       "    </tr>\n",
       "  </tbody>\n",
       "</table>\n",
       "<p>5 rows × 79 columns</p>\n",
       "</div>"
      ],
      "text/plain": [
       "   protocol_type = udp  protocol_type = tcp  protocol_type = icmp  \\\n",
       "0                  0.0                  1.0                   0.0   \n",
       "1                  0.0                  1.0                   0.0   \n",
       "2                  0.0                  1.0                   0.0   \n",
       "3                  0.0                  1.0                   0.0   \n",
       "4                  0.0                  1.0                   0.0   \n",
       "\n",
       "   service = private  service = domain_u  service = http  service = smtp  \\\n",
       "0                0.0                 0.0             1.0             0.0   \n",
       "1                0.0                 0.0             1.0             0.0   \n",
       "2                0.0                 0.0             0.0             0.0   \n",
       "3                0.0                 0.0             1.0             0.0   \n",
       "4                0.0                 0.0             1.0             0.0   \n",
       "\n",
       "   service = ftp_data  service = ftp  service = eco_i  ...  dst_host_count  \\\n",
       "0                 0.0            0.0              0.0  ...        0.062745   \n",
       "1                 0.0            0.0              0.0  ...        0.015686   \n",
       "2                 1.0            0.0              0.0  ...        0.145098   \n",
       "3                 0.0            0.0              0.0  ...        1.000000   \n",
       "4                 0.0            0.0              0.0  ...        1.000000   \n",
       "\n",
       "   dst_host_srv_count  dst_host_same_srv_rate  dst_host_diff_srv_rate  \\\n",
       "0            0.968627                    1.00                    0.00   \n",
       "1            1.000000                    1.00                    0.00   \n",
       "2            0.211765                    0.49                    0.08   \n",
       "3            1.000000                    1.00                    0.00   \n",
       "4            1.000000                    1.00                    0.00   \n",
       "\n",
       "   dst_host_same_src_port_rate  dst_host_srv_diff_host_rate  \\\n",
       "0                         0.06                         0.02   \n",
       "1                         0.25                         0.02   \n",
       "2                         0.49                         0.04   \n",
       "3                         0.00                         0.00   \n",
       "4                         0.00                         0.00   \n",
       "\n",
       "   dst_host_serror_rate  dst_host_srv_serror_rate  dst_host_rerror_rate  \\\n",
       "0                   0.0                       0.0                   0.0   \n",
       "1                   0.0                       0.0                   0.0   \n",
       "2                   0.0                       0.0                   0.0   \n",
       "3                   0.0                       0.0                   0.0   \n",
       "4                   0.0                       0.0                   0.0   \n",
       "\n",
       "   dst_host_srv_rerror_rate  \n",
       "0                       0.0  \n",
       "1                       0.0  \n",
       "2                       0.0  \n",
       "3                       0.0  \n",
       "4                       0.0  \n",
       "\n",
       "[5 rows x 79 columns]"
      ]
     },
     "execution_count": 6,
     "metadata": {},
     "output_type": "execute_result"
    }
   ],
   "source": [
    "x_kdd_prepared.head()"
   ]
  },
  {
   "cell_type": "markdown",
   "metadata": {},
   "source": [
    "### Optional: Data preprocessing for the unprepared data\n",
    "\n",
    "- Remove duplicate rows\n",
    "- Remove columns with only a single value\n",
    "- Make dummy columns with pd.get_dummies()\n",
    "- Scale the numerical data columns\n"
   ]
  },
  {
   "cell_type": "code",
   "execution_count": 7,
   "metadata": {},
   "outputs": [],
   "source": [
    "def data_preps(x_df, y_df):\n",
    "    # Remove duplicates from X, and remove the same rows from y\n",
    "    x_df = x_df.drop_duplicates(x_df.drop(columns='id').columns)\n",
    "    y_df = y_df[x_df.index]\n",
    "    \n",
    "    # Remove columns with only a single value\n",
    "    single_value_cols = x_df.nunique()[x_df.nunique()==1].index\n",
    "    print('Columns with only one unique value: {}'.format(single_value_cols))\n",
    "    x_df = x_df.drop(columns=single_value_cols)\n",
    "    assert  x_df.nunique().min() >1, 'Columns with single value still remaining'\n",
    "    print(f'{len(single_value_cols)} columns dropped')\n",
    "    \n",
    "    # The easiest way to get one-hot-encoded data: pd.get_dummies()\n",
    "    numeric_cols = x_df.select_dtypes(float).columns # for the scaling in the next step\n",
    "    object_cols = x_df.select_dtypes(object).columns\n",
    "    binary_cols = x_df.nunique()[x_df.nunique() == 2].index\n",
    "    numeric_cols = list(set(numeric_cols) - set(binary_cols))\n",
    "    \n",
    "    x_df = pd.get_dummies(x_df, drop_first=True, columns=object_cols) \n",
    "    # NB: in principle, .get_dummies() automatically uses object and category columns\n",
    "    \n",
    "    # TODO: implement scaling (when needed to use raw data... otherwise delete this function)\n",
    "    return x_df, y_df\n",
    "\n",
    "use_raw_data = False\n",
    "if use_raw_data:\n",
    "    x_kdd_prepared, y_kdd_prepared = data_preps(x_kdd, y_kdd)\n",
    "    "
   ]
  },
  {
   "cell_type": "markdown",
   "metadata": {},
   "source": [
    "### 1. KNN"
   ]
  },
  {
   "cell_type": "code",
   "execution_count": 8,
   "metadata": {},
   "outputs": [],
   "source": [
    "# train kNN detector\n",
    "first_N = 20000\n",
    "clf_name = 'KNN'\n",
    "clf = KNN(method='median', n_neighbors=83)\n",
    "clf.fit(x_kdd_prepared.head(first_N))\n",
    "\n",
    "# get the prediction label and outlier scores of the training data\n",
    "y_train_pred = clf.labels_  # binary labels (0: inliers, 1: outliers)\n",
    "y_train_scores = clf.decision_scores_  # raw outlier scores\n"
   ]
  },
  {
   "cell_type": "markdown",
   "metadata": {},
   "source": [
    "**Submit to the API**"
   ]
  },
  {
   "cell_type": "code",
   "execution_count": 9,
   "metadata": {},
   "outputs": [],
   "source": [
    "url = \"https://unsupervised-label-api-pg.herokuapp.com/\"\n",
    "\n",
    "ls_ernst = LabelSubmitter(username='ernst', \n",
    "                           password='2718_', \n",
    "                           url=url)\n",
    "ls_ernst.get_jwt_token()"
   ]
  },
  {
   "cell_type": "code",
   "execution_count": 10,
   "metadata": {},
   "outputs": [],
   "source": [
    "N = 500\n",
    "top_N_kdd = np.argsort(y_train_scores)[::-1][:N]\n"
   ]
  },
  {
   "cell_type": "code",
   "execution_count": 12,
   "metadata": {},
   "outputs": [
    {
     "name": "stdout",
     "output_type": "stream",
     "text": [
      "submitted 0 new points\n",
      "number of positives in submission: 74\n",
      "precision of submission: 14.80%\n"
     ]
    }
   ],
   "source": [
    "ls_ernst.post_predictions(top_N_kdd, endpoint='kdd')"
   ]
  },
  {
   "cell_type": "code",
   "execution_count": 14,
   "metadata": {},
   "outputs": [
    {
     "name": "stdout",
     "output_type": "stream",
     "text": [
      "number of predictions made: 500\n",
      "total number of positives found: 74\n",
      "total precision: 14.80%\n"
     ]
    }
   ],
   "source": [
    "labels = ls_ernst.get_labels(endpoint='kdd')"
   ]
  },
  {
   "cell_type": "code",
   "execution_count": null,
   "metadata": {},
   "outputs": [],
   "source": []
  },
  {
   "cell_type": "markdown",
   "metadata": {},
   "source": [
    "## 2. Isolation Forest"
   ]
  },
  {
   "cell_type": "code",
   "execution_count": 15,
   "metadata": {},
   "outputs": [],
   "source": [
    "ifo = IsolationForest(n_estimators=100, max_samples=1024, random_state=1, contamination=0.01, behaviour='new')\n",
    "ifo.fit(x_kdd_prepared)\n",
    "kdd_isof_scores = - ifo.decision_function(x_kdd_prepared)"
   ]
  },
  {
   "cell_type": "code",
   "execution_count": 16,
   "metadata": {},
   "outputs": [],
   "source": [
    "ls_test = LabelSubmitter(username='test', \n",
    "                           password='2718_', \n",
    "                           url=url)\n",
    "ls_test.get_jwt_token()"
   ]
  },
  {
   "cell_type": "code",
   "execution_count": 17,
   "metadata": {},
   "outputs": [],
   "source": [
    "N = 500\n",
    "top_N_kdd_iso = np.argsort(kdd_isof_scores)[::-1][:N]\n"
   ]
  },
  {
   "cell_type": "code",
   "execution_count": 18,
   "metadata": {},
   "outputs": [
    {
     "name": "stdout",
     "output_type": "stream",
     "text": [
      "submitted 0 new points\n",
      "number of positives in submission: 138\n",
      "precision of submission: 27.60%\n"
     ]
    }
   ],
   "source": [
    "ls_test.post_predictions(top_N_kdd_iso, endpoint='kdd')"
   ]
  },
  {
   "cell_type": "code",
   "execution_count": 19,
   "metadata": {},
   "outputs": [
    {
     "data": {
      "text/html": [
       "<div>\n",
       "<style scoped>\n",
       "    .dataframe tbody tr th:only-of-type {\n",
       "        vertical-align: middle;\n",
       "    }\n",
       "\n",
       "    .dataframe tbody tr th {\n",
       "        vertical-align: top;\n",
       "    }\n",
       "\n",
       "    .dataframe thead th {\n",
       "        text-align: right;\n",
       "    }\n",
       "</style>\n",
       "<table border=\"1\" class=\"dataframe\">\n",
       "  <thead>\n",
       "    <tr style=\"text-align: right;\">\n",
       "      <th></th>\n",
       "      <th>N_submitted</th>\n",
       "      <th>N_positives_found</th>\n",
       "      <th>precision</th>\n",
       "    </tr>\n",
       "  </thead>\n",
       "  <tbody>\n",
       "    <tr>\n",
       "      <th>admin</th>\n",
       "      <td>24.0</td>\n",
       "      <td>1.0</td>\n",
       "      <td>4.166667</td>\n",
       "    </tr>\n",
       "    <tr>\n",
       "      <th>steffen</th>\n",
       "      <td>0.0</td>\n",
       "      <td>0.0</td>\n",
       "      <td>NaN</td>\n",
       "    </tr>\n",
       "    <tr>\n",
       "      <th>alessandro</th>\n",
       "      <td>0.0</td>\n",
       "      <td>0.0</td>\n",
       "      <td>NaN</td>\n",
       "    </tr>\n",
       "    <tr>\n",
       "      <th>theo</th>\n",
       "      <td>0.0</td>\n",
       "      <td>0.0</td>\n",
       "      <td>NaN</td>\n",
       "    </tr>\n",
       "    <tr>\n",
       "      <th>giulio</th>\n",
       "      <td>0.0</td>\n",
       "      <td>0.0</td>\n",
       "      <td>NaN</td>\n",
       "    </tr>\n",
       "    <tr>\n",
       "      <th>ernst</th>\n",
       "      <td>500.0</td>\n",
       "      <td>74.0</td>\n",
       "      <td>14.800000</td>\n",
       "    </tr>\n",
       "    <tr>\n",
       "      <th>test</th>\n",
       "      <td>824.0</td>\n",
       "      <td>159.0</td>\n",
       "      <td>19.296117</td>\n",
       "    </tr>\n",
       "  </tbody>\n",
       "</table>\n",
       "</div>"
      ],
      "text/plain": [
       "            N_submitted  N_positives_found  precision\n",
       "admin              24.0                1.0   4.166667\n",
       "steffen             0.0                0.0        NaN\n",
       "alessandro          0.0                0.0        NaN\n",
       "theo                0.0                0.0        NaN\n",
       "giulio              0.0                0.0        NaN\n",
       "ernst             500.0               74.0  14.800000\n",
       "test              824.0              159.0  19.296117"
      ]
     },
     "execution_count": 19,
     "metadata": {},
     "output_type": "execute_result"
    },
    {
     "data": {
      "image/png": "[encoded data removed]",
      "text/plain": [
       "<Figure size 864x432 with 2 Axes>"
      ]
     },
     "metadata": {
      "needs_background": "light"
     },
     "output_type": "display_data"
    }
   ],
   "source": [
    "ls_ernst.get_statistics(endpoint='kdd')"
   ]
  },
  {
   "cell_type": "code",
   "execution_count": 21,
   "metadata": {},
   "outputs": [
    {
     "name": "stdout",
     "output_type": "stream",
     "text": [
      "{'message': 'Operation not allowed for this user'}\n"
     ]
    }
   ],
   "source": [
    "ls_test.get_statistics()"
   ]
  },
  {
   "cell_type": "markdown",
   "metadata": {},
   "source": [
    "## 3. Autoencoder"
   ]
  },
  {
   "cell_type": "code",
   "execution_count": 22,
   "metadata": {},
   "outputs": [
    {
     "data": {
      "text/plain": [
       "(48113, 79)"
      ]
     },
     "execution_count": 22,
     "metadata": {},
     "output_type": "execute_result"
    }
   ],
   "source": [
    "x_kdd_prepared.shape"
   ]
  },
  {
   "cell_type": "code",
   "execution_count": 37,
   "metadata": {},
   "outputs": [],
   "source": [
    "clf = AutoEncoder(\n",
    "    hidden_neurons=[40, 20, 40],\n",
    "    hidden_activation='elu',\n",
    "    output_activation='linear',\n",
    "    optimizer='adam',\n",
    "    epochs=20,\n",
    "    batch_size=16,\n",
    "    dropout_rate=0.2,\n",
    "    l2_regularizer=0.0,\n",
    "    validation_size=0.1,\n",
    "    preprocessing=True, #NB: this uses sklearn's StandardScaler (not [0, 1] --> do not use sigmoid output activation!)\n",
    "    verbose=1,\n",
    "    random_state=1,\n",
    "    contamination=0.1,\n",
    ")"
   ]
  },
  {
   "cell_type": "code",
   "execution_count": 38,
   "metadata": {},
   "outputs": [
    {
     "name": "stdout",
     "output_type": "stream",
     "text": [
      "Model: \"sequential_5\"\n",
      "_________________________________________________________________\n",
      "Layer (type)                 Output Shape              Param #   \n",
      "=================================================================\n",
      "dense_25 (Dense)             (None, 79)                6320      \n",
      "_________________________________________________________________\n",
      "dropout_21 (Dropout)         (None, 79)                0         \n",
      "_________________________________________________________________\n",
      "dense_26 (Dense)             (None, 79)                6320      \n",
      "_________________________________________________________________\n",
      "dropout_22 (Dropout)         (None, 79)                0         \n",
      "_________________________________________________________________\n",
      "dense_27 (Dense)             (None, 40)                3200      \n",
      "_________________________________________________________________\n",
      "dropout_23 (Dropout)         (None, 40)                0         \n",
      "_________________________________________________________________\n",
      "dense_28 (Dense)             (None, 20)                820       \n",
      "_________________________________________________________________\n",
      "dropout_24 (Dropout)         (None, 20)                0         \n",
      "_________________________________________________________________\n",
      "dense_29 (Dense)             (None, 40)                840       \n",
      "_________________________________________________________________\n",
      "dropout_25 (Dropout)         (None, 40)                0         \n",
      "_________________________________________________________________\n",
      "dense_30 (Dense)             (None, 79)                3239      \n",
      "=================================================================\n",
      "Total params: 20,739\n",
      "Trainable params: 20,739\n",
      "Non-trainable params: 0\n",
      "_________________________________________________________________\n",
      "None\n",
      "Train on 43301 samples, validate on 4812 samples\n",
      "Epoch 1/20\n",
      "43301/43301 [==============================] - 11s 245us/step - loss: 0.8041 - val_loss: 0.5665\n",
      "Epoch 2/20\n",
      "43301/43301 [==============================] - 10s 222us/step - loss: 0.7016 - val_loss: 0.5269\n",
      "Epoch 3/20\n",
      "43301/43301 [==============================] - 10s 225us/step - loss: 0.6765 - val_loss: 0.5098\n",
      "Epoch 4/20\n",
      "43301/43301 [==============================] - 9s 216us/step - loss: 0.6628 - val_loss: 0.4914\n",
      "Epoch 5/20\n",
      "43301/43301 [==============================] - 9s 212us/step - loss: 0.6507 - val_loss: 0.4832\n",
      "Epoch 6/20\n",
      "43301/43301 [==============================] - 9s 209us/step - loss: 0.6449 - val_loss: 0.4747\n",
      "Epoch 7/20\n",
      "43301/43301 [==============================] - 11s 243us/step - loss: 0.6330 - val_loss: 0.4710\n",
      "Epoch 8/20\n",
      "43301/43301 [==============================] - 13s 297us/step - loss: 0.6280 - val_loss: 0.4664\n",
      "Epoch 9/20\n",
      "43301/43301 [==============================] - 12s 271us/step - loss: 0.6196 - val_loss: 0.4596\n",
      "Epoch 10/20\n",
      "43301/43301 [==============================] - 11s 258us/step - loss: 0.6207 - val_loss: 0.4670\n",
      "Epoch 11/20\n",
      "43301/43301 [==============================] - 13s 292us/step - loss: 0.6096 - val_loss: 0.4554\n",
      "Epoch 12/20\n",
      "43301/43301 [==============================] - 11s 262us/step - loss: 0.6103 - val_loss: 0.4574\n",
      "Epoch 13/20\n",
      "43301/43301 [==============================] - 10s 237us/step - loss: 0.6177 - val_loss: 0.4524\n",
      "Epoch 14/20\n",
      "43301/43301 [==============================] - 10s 237us/step - loss: 0.6145 - val_loss: 0.4549\n",
      "Epoch 15/20\n",
      "43301/43301 [==============================] - 10s 238us/step - loss: 0.6180 - val_loss: 0.4544\n",
      "Epoch 16/20\n",
      "43301/43301 [==============================] - 12s 279us/step - loss: 0.6056 - val_loss: 0.4531\n",
      "Epoch 17/20\n",
      "43301/43301 [==============================] - 13s 294us/step - loss: 0.5982 - val_loss: 0.4345\n",
      "Epoch 18/20\n",
      "43301/43301 [==============================] - 14s 317us/step - loss: 0.5981 - val_loss: 0.4305\n",
      "Epoch 19/20\n",
      "43301/43301 [==============================] - 10s 235us/step - loss: 0.5915 - val_loss: 0.4280\n",
      "Epoch 20/20\n",
      "43301/43301 [==============================] - 12s 276us/step - loss: 0.6016 - val_loss: 0.4230\n"
     ]
    },
    {
     "data": {
      "text/plain": [
       "AutoEncoder(batch_size=16, contamination=0.1, dropout_rate=0.2, epochs=20,\n",
       "      hidden_activation='elu', hidden_neurons=[40, 20, 40],\n",
       "      l2_regularizer=0.0,\n",
       "      loss=<function mean_squared_error at 0x7fb0fe965e18>,\n",
       "      optimizer='adam', output_activation='linear', preprocessing=True,\n",
       "      random_state=1, validation_size=0.1, verbose=1)"
      ]
     },
     "execution_count": 38,
     "metadata": {},
     "output_type": "execute_result"
    }
   ],
   "source": [
    "clf.fit(x_kdd_prepared)\n"
   ]
  },
  {
   "cell_type": "code",
   "execution_count": 45,
   "metadata": {},
   "outputs": [],
   "source": [
    "y_train_scores = clf.decision_scores_  # raw outlier scores\n",
    "y_train_scores = np.clip(y_train_scores, 0, 50)"
   ]
  },
  {
   "cell_type": "code",
   "execution_count": 39,
   "metadata": {},
   "outputs": [
    {
     "data": {
      "image/png": "[encoded data removed]",
      "text/plain": [
       "<Figure size 432x288 with 1 Axes>"
      ]
     },
     "metadata": {
      "needs_background": "light"
     },
     "output_type": "display_data"
    }
   ],
   "source": [
    "# Compare the original with the reconstruction to get a feeling (in StandardScaled space)\n",
    "scaler = StandardScaler()\n",
    "x_kdd_scaled = scaler.fit_transform(x_kdd_prepared)\n",
    "x_kdd_scaled_recon = clf.model_.predict(x_kdd_scaled)\n",
    "#x_kdd_recon = scaler.inverse_transform(x_kdd_scaled_recon)\n",
    "plt.plot(x_kdd_scaled[0, :], label='original')\n",
    "plt.plot(x_kdd_scaled_recon[0, :], label='reconstructed');\n",
    "plt.legend();"
   ]
  },
  {
   "cell_type": "code",
   "execution_count": 44,
   "metadata": {},
   "outputs": [],
   "source": [
    "ls_steffen = LabelSubmitter(username='steffen', \n",
    "                           password='2718_', \n",
    "                           url=url)\n",
    "ls_steffen.get_jwt_token()"
   ]
  },
  {
   "cell_type": "code",
   "execution_count": 47,
   "metadata": {},
   "outputs": [
    {
     "name": "stdout",
     "output_type": "stream",
     "text": [
      "submitted 500 new points\n",
      "number of positives in submission: 58\n",
      "precision of submission: 11.60%\n"
     ]
    }
   ],
   "source": [
    "N = 500\n",
    "top_N_kdd_autoenc = np.argsort(y_train_scores)[::-1][:N]\n",
    "ls_steffen.post_predictions(top_N_kdd_autoenc, endpoint='kdd')"
   ]
  },
  {
   "cell_type": "code",
   "execution_count": 49,
   "metadata": {},
   "outputs": [
    {
     "data": {
      "text/html": [
       "<div>\n",
       "<style scoped>\n",
       "    .dataframe tbody tr th:only-of-type {\n",
       "        vertical-align: middle;\n",
       "    }\n",
       "\n",
       "    .dataframe tbody tr th {\n",
       "        vertical-align: top;\n",
       "    }\n",
       "\n",
       "    .dataframe thead th {\n",
       "        text-align: right;\n",
       "    }\n",
       "</style>\n",
       "<table border=\"1\" class=\"dataframe\">\n",
       "  <thead>\n",
       "    <tr style=\"text-align: right;\">\n",
       "      <th></th>\n",
       "      <th>N_submitted</th>\n",
       "      <th>N_positives_found</th>\n",
       "      <th>precision</th>\n",
       "    </tr>\n",
       "  </thead>\n",
       "  <tbody>\n",
       "    <tr>\n",
       "      <th>admin</th>\n",
       "      <td>24.0</td>\n",
       "      <td>1.0</td>\n",
       "      <td>4.166667</td>\n",
       "    </tr>\n",
       "    <tr>\n",
       "      <th>steffen</th>\n",
       "      <td>500.0</td>\n",
       "      <td>58.0</td>\n",
       "      <td>11.600000</td>\n",
       "    </tr>\n",
       "    <tr>\n",
       "      <th>alessandro</th>\n",
       "      <td>0.0</td>\n",
       "      <td>0.0</td>\n",
       "      <td>NaN</td>\n",
       "    </tr>\n",
       "    <tr>\n",
       "      <th>theo</th>\n",
       "      <td>0.0</td>\n",
       "      <td>0.0</td>\n",
       "      <td>NaN</td>\n",
       "    </tr>\n",
       "    <tr>\n",
       "      <th>giulio</th>\n",
       "      <td>0.0</td>\n",
       "      <td>0.0</td>\n",
       "      <td>NaN</td>\n",
       "    </tr>\n",
       "    <tr>\n",
       "      <th>ernst</th>\n",
       "      <td>500.0</td>\n",
       "      <td>74.0</td>\n",
       "      <td>14.800000</td>\n",
       "    </tr>\n",
       "    <tr>\n",
       "      <th>test</th>\n",
       "      <td>1010.0</td>\n",
       "      <td>168.0</td>\n",
       "      <td>16.633663</td>\n",
       "    </tr>\n",
       "  </tbody>\n",
       "</table>\n",
       "</div>"
      ],
      "text/plain": [
       "            N_submitted  N_positives_found  precision\n",
       "admin              24.0                1.0   4.166667\n",
       "steffen           500.0               58.0  11.600000\n",
       "alessandro          0.0                0.0        NaN\n",
       "theo                0.0                0.0        NaN\n",
       "giulio              0.0                0.0        NaN\n",
       "ernst             500.0               74.0  14.800000\n",
       "test             1010.0              168.0  16.633663"
      ]
     },
     "execution_count": 49,
     "metadata": {},
     "output_type": "execute_result"
    },
    {
     "data": {
      "image/png": "[encoded data removed]",
      "text/plain": [
       "<Figure size 864x432 with 2 Axes>"
      ]
     },
     "metadata": {
      "needs_background": "light"
     },
     "output_type": "display_data"
    }
   ],
   "source": [
    "ls_steffen.get_statistics('kdd')"
   ]
  },
  {
   "cell_type": "code",
   "execution_count": 43,
   "metadata": {},
   "outputs": [
    {
     "data": {
      "image/png": "[encoded data removed]",
      "text/plain": [
       "<Figure size 432x288 with 1 Axes>"
      ]
     },
     "metadata": {
      "needs_background": "light"
     },
     "output_type": "display_data"
    }
   ],
   "source": [
    "\n",
    "res = plot_outlier_scores(y_kdd_prepared.values, y_train_scores, bw=1, title='Pen digits, Autoencoder outlier scores')"
   ]
  },
  {
   "cell_type": "code",
   "execution_count": null,
   "metadata": {},
   "outputs": [],
   "source": []
  }
 ],
 "metadata": {
  "kernelspec": {
   "display_name": "Python 3",
   "language": "python",
   "name": "python3"
  },
  "language_info": {
   "codemirror_mode": {
    "name": "ipython",
    "version": 3
   },
   "file_extension": ".py",
   "mimetype": "text/x-python",
   "name": "python",
   "nbconvert_exporter": "python",
   "pygments_lexer": "ipython3",
   "version": "3.7.3"
  }
 },
 "nbformat": 4,
 "nbformat_minor": 2
}
