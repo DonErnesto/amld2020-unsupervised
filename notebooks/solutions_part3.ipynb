{
 "cells": [
  {
   "cell_type": "markdown",
   "metadata": {},
   "source": [
    "## The main workshop challenge\n",
    "\n",
    "This Notebook demonstrates some solutions for unsupervised fraud detection strategies. \n",
    "\n",
    "Labels are not used for tuning. \n",
    "\n"
   ]
  },
  {
   "cell_type": "code",
   "execution_count": 1,
   "metadata": {},
   "outputs": [
    {
     "name": "stderr",
     "output_type": "stream",
     "text": [
      "Using TensorFlow backend.\n"
     ]
    }
   ],
   "source": [
    "# standard library imports\n",
    "import os\n",
    "import sys\n",
    "from collections import Counter\n",
    "\n",
    "# pandas, seaborn etc.\n",
    "import seaborn as sns\n",
    "import sklearn \n",
    "import matplotlib.pyplot as plt\n",
    "%matplotlib inline\n",
    "import pandas as pd\n",
    "import numpy as np\n",
    "\n",
    "# sklearn outlier models\n",
    "from sklearn.neighbors import NearestNeighbors\n",
    "from sklearn.neighbors import LocalOutlierFactor\n",
    "from sklearn.ensemble import IsolationForest\n",
    "from sklearn.cluster import DBSCAN\n",
    "\n",
    "# other sklearn functions\n",
    "from sklearn.decomposition import PCA\n",
    "from sklearn.covariance import MinCovDet, EmpiricalCovariance\n",
    "from sklearn.metrics import roc_auc_score\n",
    "from sklearn.preprocessing import StandardScaler, RobustScaler, MinMaxScaler\n",
    "from sklearn.preprocessing import LabelEncoder\n",
    "from sklearn.preprocessing import scale as preproc_scale\n",
    "\n",
    "# pyod\n",
    "import pyod\n",
    "from pyod.models.auto_encoder import AutoEncoder\n",
    "from pyod.models.knn import KNN   \n",
    "\n",
    "sys.path.append(\"..\") #to enable importing from ../outlierutils"
   ]
  },
  {
   "cell_type": "code",
   "execution_count": 2,
   "metadata": {},
   "outputs": [],
   "source": [
    "from outlierutils import plot_top_N, plot_outlier_scores, LabelSubmitter"
   ]
  },
  {
   "cell_type": "code",
   "execution_count": 3,
   "metadata": {},
   "outputs": [],
   "source": [
    "## SETTINGS\n",
    "only_hasid = True"
   ]
  },
  {
   "cell_type": "code",
   "execution_count": 24,
   "metadata": {},
   "outputs": [
    {
     "name": "stdout",
     "output_type": "stream",
     "text": [
      "Shape of the X-data: (200000, 434)\n",
      "Mean of the y variable: 3.01%\n"
     ]
    }
   ],
   "source": [
    "data_path = '../data/'\n",
    "x_fraud = pd.read_pickle(os.path.join(data_path, 'x_fraud.pkl'))\n",
    "y_fraud = pd.read_pickle(os.path.join(data_path, 'y_fraud.pkl'))\n",
    "print('Shape of the X-data: {}'.format(x_fraud.shape))\n",
    "print('Mean of the y variable: {:.2%}'.format(y_fraud.mean()))"
   ]
  },
  {
   "cell_type": "code",
   "execution_count": 27,
   "metadata": {},
   "outputs": [
    {
     "name": "stdout",
     "output_type": "stream",
     "text": [
      "['C5', 'C9', 'V12', 'V13', 'V29', 'V30', 'V35', 'V36', 'V48', 'V49', 'V53', 'V54', 'V69', 'V70', 'V75', 'V76', 'V90', 'V91', 'V305', 'has_id']\n"
     ]
    }
   ],
   "source": [
    "if only_hasid:\n",
    "    idx_tokeep = x_fraud[x_fraud.has_id==1].index\n",
    "    x_fraud = x_fraud.loc[idx_tokeep, :]\n",
    "    y_fraud = y_fraud.loc[idx_tokeep]\n",
    "\n",
    "# Drop columns with only NaN's\n",
    "x_fraud = x_fraud.dropna(axis=1, how='all')\n",
    "    \n",
    "# Remove columns with only a single value\n",
    "constant_cols = [xn for xn in x_fraud.columns if x_fraud[xn].nunique()==1] # looping to limit memory usage\n",
    "x_fraud = x_fraud.drop(columns=constant_cols)\n",
    "print('Columns with a single unique value: {}'.format(constant_cols))"
   ]
  },
  {
   "cell_type": "code",
   "execution_count": 28,
   "metadata": {},
   "outputs": [
    {
     "name": "stdout",
     "output_type": "stream",
     "text": [
      "Shape of the X-data: (70093, 392)\n",
      "Mean of the y variable: 4.88%\n"
     ]
    }
   ],
   "source": [
    "print('Shape of the X-data: {}'.format(x_fraud.shape))\n",
    "print('Mean of the y variable: {:.2%}'.format(y_fraud.mean()))"
   ]
  },
  {
   "cell_type": "code",
   "execution_count": 29,
   "metadata": {},
   "outputs": [],
   "source": [
    "def label_encoding(df, columns=None):\n",
    "    if columns is None:\n",
    "        columns = df.columns\n",
    "    for col in columns:\n",
    "        le = LabelEncoder()\n",
    "        le.fit(list(df[col].astype(str).values))\n",
    "        df.loc[:, col] = le.transform(list(df.loc[:, col].astype(str).values))\n",
    "    return df\n",
    "\n",
    "def median_imputation(df, median_impute_limit=0.95, impute_val=-999):\n",
    "    \"\"\" inf/nan Values that occur more often than median_impute_limit are imputed with the median\n",
    "    when less often, they are imputed by impute_val. \n",
    "    Set median_impute_limit to 0 to always do median imputation\n",
    "    \"\"\"\n",
    "    df = df.replace([np.inf, -np.inf], np.nan)\n",
    "    for col in df.columns:\n",
    "        if not df[col].dtype == 'object':\n",
    "            mean_nan = df[col].isna().mean()\n",
    "            if mean_nan > median_impute_limit: # then, impute by median\n",
    "                df[col] = df[col].fillna(df[col].median())\n",
    "            elif mean_nan > 0 and mean_nan <= median_impute_limit:\n",
    "                df[col] = df[col].fillna(impute_val)\n",
    "                \n",
    "    return df"
   ]
  },
  {
   "cell_type": "code",
   "execution_count": 30,
   "metadata": {},
   "outputs": [],
   "source": [
    "column_groups = {'card': [c for c in x_fraud.columns if c.startswith('card')],\n",
    "                   'addr': [c for c in x_fraud.columns if c.startswith('addr')],\n",
    "                   'dist1': ['dist2'],\n",
    "                   'C' : [c for c in x_fraud.columns if c.startswith('C')],\n",
    "                   'D' : [c for c in x_fraud.columns if c.lstrip('D').isnumeric()],\n",
    "                   'M' : [c for c in x_fraud.columns if c.startswith('M')],\n",
    "                   'id' : [c for c in x_fraud.columns if c.startswith('id')],   \n",
    "                   'V': [c for c in x_fraud.columns if c.startswith('V')],\n",
    "                   'trans': [c for c in x_fraud.columns if c.startswith('Trans')]}\n"
   ]
  },
  {
   "cell_type": "markdown",
   "metadata": {},
   "source": [
    "### Card columns\n",
    "\n",
    "These are supposedly categorical, but have many unique values. Leave numerical, except for card4 and card6 (that have only 4 unique values). Do a mode fill on the NaN columns"
   ]
  },
  {
   "cell_type": "code",
   "execution_count": 31,
   "metadata": {},
   "outputs": [],
   "source": [
    "card_cols = pd.get_dummies(x_fraud[column_groups['card']], columns=['card4', 'card6'], drop_first=True)"
   ]
  },
  {
   "cell_type": "code",
   "execution_count": 32,
   "metadata": {},
   "outputs": [],
   "source": [
    "card_cols = card_cols.fillna(card_cols.mode().iloc[0]) #NB: iloc: fillna needs a 1-D object to be applied on columns"
   ]
  },
  {
   "cell_type": "code",
   "execution_count": 33,
   "metadata": {},
   "outputs": [],
   "source": [
    "# Check: No Nan's, no text\n",
    "assert not card_cols.isna().sum().sum(), 'NaNs still present'\n",
    "assert not [c for c in card_cols.dtypes if c==object]"
   ]
  },
  {
   "cell_type": "code",
   "execution_count": 34,
   "metadata": {},
   "outputs": [],
   "source": [
    "card_colnames_dummies = [col for col in card_cols.columns if col.startswith('card4') or col.startswith('card6')]\n",
    "card_colnames_numeric = [col for col in card_cols.columns if col not in card_colnames_dummies]"
   ]
  },
  {
   "cell_type": "markdown",
   "metadata": {},
   "source": [
    "### Dist columns\n",
    "\n",
    "These represent \"distances between (not limited) billing address, mailing address, zip code, IP address, phone area, etc.”, thus are numeric"
   ]
  },
  {
   "cell_type": "code",
   "execution_count": 35,
   "metadata": {},
   "outputs": [],
   "source": [
    "#dist_cols = pd.concat((x_fraud[['dist1']].fillna(x_fraud[['dist1']].median()), \n",
    "#                        x_fraud[['dist1']].isna().astype(int).rename(columns={'dist1': 'dist1_nan'}),\n",
    "#                      x_fraud[['dist2']].fillna(x_fraud[['dist2']].median()), \n",
    "#                        x_fraud[['dist2']].isna().astype(int).rename(columns={'dist2': 'dist2_nan'})), axis=1)"
   ]
  },
  {
   "cell_type": "code",
   "execution_count": 36,
   "metadata": {},
   "outputs": [],
   "source": [
    "dist_cols = pd.concat((x_fraud[['dist2']].fillna(x_fraud[['dist2']].median()), \n",
    "                       x_fraud[['dist2']].isna().astype(int).rename(columns={'dist2': 'dist2_nan'})), axis=1)"
   ]
  },
  {
   "cell_type": "markdown",
   "metadata": {},
   "source": [
    "### Address Columns \n",
    "According to the description, these columns are categorical. Do not seem very useful, judging at the many levels present. \n",
    "Skip these. \n"
   ]
  },
  {
   "cell_type": "code",
   "execution_count": 37,
   "metadata": {},
   "outputs": [
    {
     "data": {
      "text/plain": [
       "addr1    246\n",
       "addr2     56\n",
       "dtype: int64"
      ]
     },
     "execution_count": 37,
     "metadata": {},
     "output_type": "execute_result"
    }
   ],
   "source": [
    "x_fraud[column_groups['addr']].nunique()\n"
   ]
  },
  {
   "cell_type": "markdown",
   "metadata": {},
   "source": [
    "### C- columns\n",
    "\n",
    "The C-columns are numerical, but can easily be compressed"
   ]
  },
  {
   "cell_type": "code",
   "execution_count": 38,
   "metadata": {},
   "outputs": [
    {
     "name": "stdout",
     "output_type": "stream",
     "text": [
      "float32    12\n",
      "dtype: int64\n",
      "C1     119604.984375\n",
      "C2     163050.687500\n",
      "C3          0.065072\n",
      "C4      31479.005859\n",
      "C6      31593.751953\n",
      "C7      27965.484375\n",
      "C8      65749.007812\n",
      "C10     66435.187500\n",
      "C11     59029.371094\n",
      "C12     54984.945312\n",
      "C13     53347.031250\n",
      "C14     13415.871094\n",
      "dtype: float32\n"
     ]
    }
   ],
   "source": [
    "print(x_fraud[column_groups['C']].dtypes.value_counts())\n",
    "print(x_fraud[column_groups['C']].var())"
   ]
  },
  {
   "cell_type": "code",
   "execution_count": 39,
   "metadata": {},
   "outputs": [
    {
     "data": {
      "image/png": "[encoded data removed]",
      "text/plain": [
       "<Figure size 432x288 with 2 Axes>"
      ]
     },
     "metadata": {
      "needs_background": "light"
     },
     "output_type": "display_data"
    }
   ],
   "source": [
    "sns.heatmap(x_fraud[column_groups['C']].corr());"
   ]
  },
  {
   "cell_type": "code",
   "execution_count": 40,
   "metadata": {},
   "outputs": [
    {
     "name": "stdout",
     "output_type": "stream",
     "text": [
      "[89.97 98.3  99.8 ]\n"
     ]
    }
   ],
   "source": [
    "C_original_cols = preproc_scale(x_fraud[column_groups['C']])\n",
    "pca = PCA(n_components=3, whiten=True)\n",
    "C_transformed_cols = pca.fit_transform(C_original_cols)\n",
    "\n",
    "var1=np.cumsum(np.round(pca.explained_variance_ratio_, decimals=4)*100)\n",
    "print(var1) # NB: 3 variables recovers 98% of variance\n"
   ]
  },
  {
   "cell_type": "markdown",
   "metadata": {},
   "source": [
    "### D- columns"
   ]
  },
  {
   "cell_type": "markdown",
   "metadata": {},
   "source": [
    "D1-D15: timedelta, such as days between previous transaction, etc."
   ]
  },
  {
   "cell_type": "code",
   "execution_count": null,
   "metadata": {},
   "outputs": [],
   "source": []
  },
  {
   "cell_type": "code",
   "execution_count": 41,
   "metadata": {},
   "outputs": [
    {
     "name": "stdout",
     "output_type": "stream",
     "text": [
      "[35.67 47.04 55.2  63.26 70.45 77.38 83.64 88.8  92.56 95.35]\n"
     ]
    }
   ],
   "source": [
    "D_imputed = median_imputation(x_fraud[column_groups['D']].copy(), median_impute_limit=0)\n",
    "D_original = preproc_scale(D_imputed)\n",
    "\n",
    "pca = PCA(n_components=10, whiten=True)\n",
    "D_transformed = pca.fit_transform(D_original)\n",
    "var1=np.cumsum(np.round(pca.explained_variance_ratio_, decimals=4)*100)\n",
    "print(var1) \n",
    "# Quite many components are needed for good reconstruction. \n",
    "# Take only 4 columns to reconstruct 60%\n",
    "D_transformed = D_transformed[:, :4]"
   ]
  },
  {
   "cell_type": "markdown",
   "metadata": {},
   "source": [
    "### V- columns\n",
    "There are 339 V-columns, that are supposedly very relevant. \n",
    "\"Vesta engineered rich features, including ranking, counting, and other entity relations.\" All numerical. "
   ]
  },
  {
   "cell_type": "code",
   "execution_count": 42,
   "metadata": {},
   "outputs": [
    {
     "data": {
      "text/plain": [
       "(70093, 310)"
      ]
     },
     "execution_count": 42,
     "metadata": {},
     "output_type": "execute_result"
    }
   ],
   "source": [
    "x_fraud[column_groups['V']].shape"
   ]
  },
  {
   "cell_type": "code",
   "execution_count": 43,
   "metadata": {},
   "outputs": [
    {
     "name": "stdout",
     "output_type": "stream",
     "text": [
      "[11.79 19.34 26.16 31.84 36.82 41.41 45.21 48.7  51.88 54.93 57.62 59.87\n",
      " 61.97 63.87 65.59 67.12 68.57 69.89 71.15 72.35 73.46 74.5  75.43 76.28\n",
      " 77.1 ]\n"
     ]
    }
   ],
   "source": [
    "V_original = median_imputation(x_fraud[column_groups['V']], median_impute_limit=0)\n",
    "V_original = preproc_scale(V_original)\n",
    "pca = PCA(n_components=25, whiten=True)\n",
    "V_transformed = pca.fit_transform(V_original)\n",
    "var1=np.cumsum(np.round(pca.explained_variance_ratio_, decimals=4)*100)\n",
    "print(var1) \n",
    "# With 25 columns (compression of more than 90%), we recover 73% of the signal"
   ]
  },
  {
   "cell_type": "markdown",
   "metadata": {},
   "source": [
    "### Transaction amount"
   ]
  },
  {
   "cell_type": "code",
   "execution_count": 44,
   "metadata": {},
   "outputs": [
    {
     "data": {
      "text/plain": [
       "count    70093.000000\n",
       "mean        96.036720\n",
       "std        112.044579\n",
       "min          0.292000\n",
       "25%         31.132000\n",
       "50%         60.000000\n",
       "75%        100.000000\n",
       "max       1550.000000\n",
       "Name: TransactionAmt, dtype: float64"
      ]
     },
     "execution_count": 44,
     "metadata": {},
     "output_type": "execute_result"
    }
   ],
   "source": [
    "x_fraud[column_groups['trans'][2]].describe()"
   ]
  },
  {
   "cell_type": "code",
   "execution_count": 45,
   "metadata": {},
   "outputs": [],
   "source": [
    "log_trans_amount = np.log10(1 + x_fraud.loc[:, [column_groups['trans'][2]]])\n"
   ]
  },
  {
   "cell_type": "code",
   "execution_count": 46,
   "metadata": {},
   "outputs": [],
   "source": [
    "x_fraud_processed = np.concatenate([card_cols[card_colnames_dummies].values, \n",
    "                                  dist_cols.values,\n",
    "                                  C_transformed_cols,\n",
    "                                  D_transformed,\n",
    "                                  V_transformed,\n",
    "                                  log_trans_amount], \n",
    "                                   axis=1)"
   ]
  },
  {
   "cell_type": "code",
   "execution_count": 47,
   "metadata": {},
   "outputs": [
    {
     "data": {
      "text/html": [
       "<div>\n",
       "<style scoped>\n",
       "    .dataframe tbody tr th:only-of-type {\n",
       "        vertical-align: middle;\n",
       "    }\n",
       "\n",
       "    .dataframe tbody tr th {\n",
       "        vertical-align: top;\n",
       "    }\n",
       "\n",
       "    .dataframe thead th {\n",
       "        text-align: right;\n",
       "    }\n",
       "</style>\n",
       "<table border=\"1\" class=\"dataframe\">\n",
       "  <thead>\n",
       "    <tr style=\"text-align: right;\">\n",
       "      <th></th>\n",
       "      <th>0</th>\n",
       "      <th>1</th>\n",
       "      <th>2</th>\n",
       "      <th>3</th>\n",
       "      <th>4</th>\n",
       "      <th>5</th>\n",
       "      <th>6</th>\n",
       "      <th>7</th>\n",
       "      <th>8</th>\n",
       "      <th>9</th>\n",
       "      <th>...</th>\n",
       "      <th>30</th>\n",
       "      <th>31</th>\n",
       "      <th>32</th>\n",
       "      <th>33</th>\n",
       "      <th>34</th>\n",
       "      <th>35</th>\n",
       "      <th>36</th>\n",
       "      <th>37</th>\n",
       "      <th>38</th>\n",
       "      <th>39</th>\n",
       "    </tr>\n",
       "  </thead>\n",
       "  <tbody>\n",
       "    <tr>\n",
       "      <th>count</th>\n",
       "      <td>70093.000000</td>\n",
       "      <td>70093.000000</td>\n",
       "      <td>70093.000000</td>\n",
       "      <td>70093.000000</td>\n",
       "      <td>70093.000000</td>\n",
       "      <td>70093.000000</td>\n",
       "      <td>70093.000000</td>\n",
       "      <td>7.009300e+04</td>\n",
       "      <td>7.009300e+04</td>\n",
       "      <td>7.009300e+04</td>\n",
       "      <td>...</td>\n",
       "      <td>7.009300e+04</td>\n",
       "      <td>7.009300e+04</td>\n",
       "      <td>7.009300e+04</td>\n",
       "      <td>7.009300e+04</td>\n",
       "      <td>7.009300e+04</td>\n",
       "      <td>7.009300e+04</td>\n",
       "      <td>7.009300e+04</td>\n",
       "      <td>7.009300e+04</td>\n",
       "      <td>7.009300e+04</td>\n",
       "      <td>70093.000000</td>\n",
       "    </tr>\n",
       "    <tr>\n",
       "      <th>mean</th>\n",
       "      <td>0.020031</td>\n",
       "      <td>0.278059</td>\n",
       "      <td>0.630890</td>\n",
       "      <td>0.548257</td>\n",
       "      <td>0.451529</td>\n",
       "      <td>75.504729</td>\n",
       "      <td>0.778951</td>\n",
       "      <td>-2.595109e-17</td>\n",
       "      <td>-1.044126e-17</td>\n",
       "      <td>5.300509e-15</td>\n",
       "      <td>...</td>\n",
       "      <td>2.158806e-15</td>\n",
       "      <td>-9.796535e-16</td>\n",
       "      <td>1.003172e-15</td>\n",
       "      <td>1.951197e-15</td>\n",
       "      <td>3.104196e-15</td>\n",
       "      <td>2.841542e-15</td>\n",
       "      <td>1.223756e-15</td>\n",
       "      <td>-4.212996e-16</td>\n",
       "      <td>2.066355e-15</td>\n",
       "      <td>1.807633</td>\n",
       "    </tr>\n",
       "    <tr>\n",
       "      <th>std</th>\n",
       "      <td>0.140106</td>\n",
       "      <td>0.448046</td>\n",
       "      <td>0.482567</td>\n",
       "      <td>0.497669</td>\n",
       "      <td>0.497649</td>\n",
       "      <td>272.261885</td>\n",
       "      <td>0.414956</td>\n",
       "      <td>1.000000e+00</td>\n",
       "      <td>1.000000e+00</td>\n",
       "      <td>1.000000e+00</td>\n",
       "      <td>...</td>\n",
       "      <td>1.000000e+00</td>\n",
       "      <td>1.000000e+00</td>\n",
       "      <td>1.000000e+00</td>\n",
       "      <td>1.000000e+00</td>\n",
       "      <td>1.000000e+00</td>\n",
       "      <td>1.000000e+00</td>\n",
       "      <td>1.000000e+00</td>\n",
       "      <td>1.000000e+00</td>\n",
       "      <td>1.000000e+00</td>\n",
       "      <td>0.391646</td>\n",
       "    </tr>\n",
       "    <tr>\n",
       "      <th>min</th>\n",
       "      <td>0.000000</td>\n",
       "      <td>0.000000</td>\n",
       "      <td>0.000000</td>\n",
       "      <td>0.000000</td>\n",
       "      <td>0.000000</td>\n",
       "      <td>0.000000</td>\n",
       "      <td>0.000000</td>\n",
       "      <td>-2.132447e-01</td>\n",
       "      <td>-9.182757e-02</td>\n",
       "      <td>-2.480779e+00</td>\n",
       "      <td>...</td>\n",
       "      <td>-1.551889e+01</td>\n",
       "      <td>-1.525576e+01</td>\n",
       "      <td>-1.477572e+01</td>\n",
       "      <td>-2.675764e+01</td>\n",
       "      <td>-2.175713e+01</td>\n",
       "      <td>-1.970601e+01</td>\n",
       "      <td>-2.217472e+01</td>\n",
       "      <td>-1.997515e+01</td>\n",
       "      <td>-2.282036e+01</td>\n",
       "      <td>0.111263</td>\n",
       "    </tr>\n",
       "    <tr>\n",
       "      <th>25%</th>\n",
       "      <td>0.000000</td>\n",
       "      <td>0.000000</td>\n",
       "      <td>0.000000</td>\n",
       "      <td>0.000000</td>\n",
       "      <td>0.000000</td>\n",
       "      <td>28.000000</td>\n",
       "      <td>1.000000</td>\n",
       "      <td>-1.356280e-01</td>\n",
       "      <td>-9.179979e-02</td>\n",
       "      <td>-6.072462e-02</td>\n",
       "      <td>...</td>\n",
       "      <td>-1.473662e-01</td>\n",
       "      <td>-1.105436e-01</td>\n",
       "      <td>-6.986297e-03</td>\n",
       "      <td>-6.053014e-02</td>\n",
       "      <td>-9.974183e-02</td>\n",
       "      <td>-6.104461e-02</td>\n",
       "      <td>-7.053401e-02</td>\n",
       "      <td>-1.318513e-01</td>\n",
       "      <td>-2.268472e-01</td>\n",
       "      <td>1.506938</td>\n",
       "    </tr>\n",
       "    <tr>\n",
       "      <th>50%</th>\n",
       "      <td>0.000000</td>\n",
       "      <td>0.000000</td>\n",
       "      <td>1.000000</td>\n",
       "      <td>1.000000</td>\n",
       "      <td>0.000000</td>\n",
       "      <td>28.000000</td>\n",
       "      <td>1.000000</td>\n",
       "      <td>-1.353688e-01</td>\n",
       "      <td>-9.179979e-02</td>\n",
       "      <td>-5.330471e-02</td>\n",
       "      <td>...</td>\n",
       "      <td>-9.613595e-02</td>\n",
       "      <td>-7.602506e-02</td>\n",
       "      <td>-6.986297e-03</td>\n",
       "      <td>-2.839002e-02</td>\n",
       "      <td>-9.974183e-02</td>\n",
       "      <td>-4.696285e-02</td>\n",
       "      <td>-7.053401e-02</td>\n",
       "      <td>-1.163162e-01</td>\n",
       "      <td>-7.587787e-02</td>\n",
       "      <td>1.785330</td>\n",
       "    </tr>\n",
       "    <tr>\n",
       "      <th>75%</th>\n",
       "      <td>0.000000</td>\n",
       "      <td>1.000000</td>\n",
       "      <td>1.000000</td>\n",
       "      <td>1.000000</td>\n",
       "      <td>1.000000</td>\n",
       "      <td>28.000000</td>\n",
       "      <td>1.000000</td>\n",
       "      <td>-1.344225e-01</td>\n",
       "      <td>-9.177575e-02</td>\n",
       "      <td>-4.901487e-02</td>\n",
       "      <td>...</td>\n",
       "      <td>-9.613595e-02</td>\n",
       "      <td>9.143066e-02</td>\n",
       "      <td>1.444176e-01</td>\n",
       "      <td>4.195427e-02</td>\n",
       "      <td>1.662670e-02</td>\n",
       "      <td>1.208885e-01</td>\n",
       "      <td>9.527417e-02</td>\n",
       "      <td>1.873552e-02</td>\n",
       "      <td>8.979095e-02</td>\n",
       "      <td>2.004321</td>\n",
       "    </tr>\n",
       "    <tr>\n",
       "      <th>max</th>\n",
       "      <td>1.000000</td>\n",
       "      <td>1.000000</td>\n",
       "      <td>1.000000</td>\n",
       "      <td>1.000000</td>\n",
       "      <td>1.000000</td>\n",
       "      <td>9103.000000</td>\n",
       "      <td>1.000000</td>\n",
       "      <td>1.305674e+01</td>\n",
       "      <td>7.047581e+01</td>\n",
       "      <td>1.433028e+01</td>\n",
       "      <td>...</td>\n",
       "      <td>2.213326e+01</td>\n",
       "      <td>2.164702e+01</td>\n",
       "      <td>3.373339e+01</td>\n",
       "      <td>3.495607e+01</td>\n",
       "      <td>2.896554e+01</td>\n",
       "      <td>2.125113e+01</td>\n",
       "      <td>2.907277e+01</td>\n",
       "      <td>2.955546e+01</td>\n",
       "      <td>2.812713e+01</td>\n",
       "      <td>3.190612</td>\n",
       "    </tr>\n",
       "  </tbody>\n",
       "</table>\n",
       "<p>8 rows × 40 columns</p>\n",
       "</div>"
      ],
      "text/plain": [
       "                 0             1             2             3             4   \\\n",
       "count  70093.000000  70093.000000  70093.000000  70093.000000  70093.000000   \n",
       "mean       0.020031      0.278059      0.630890      0.548257      0.451529   \n",
       "std        0.140106      0.448046      0.482567      0.497669      0.497649   \n",
       "min        0.000000      0.000000      0.000000      0.000000      0.000000   \n",
       "25%        0.000000      0.000000      0.000000      0.000000      0.000000   \n",
       "50%        0.000000      0.000000      1.000000      1.000000      0.000000   \n",
       "75%        0.000000      1.000000      1.000000      1.000000      1.000000   \n",
       "max        1.000000      1.000000      1.000000      1.000000      1.000000   \n",
       "\n",
       "                 5             6             7             8             9   \\\n",
       "count  70093.000000  70093.000000  7.009300e+04  7.009300e+04  7.009300e+04   \n",
       "mean      75.504729      0.778951 -2.595109e-17 -1.044126e-17  5.300509e-15   \n",
       "std      272.261885      0.414956  1.000000e+00  1.000000e+00  1.000000e+00   \n",
       "min        0.000000      0.000000 -2.132447e-01 -9.182757e-02 -2.480779e+00   \n",
       "25%       28.000000      1.000000 -1.356280e-01 -9.179979e-02 -6.072462e-02   \n",
       "50%       28.000000      1.000000 -1.353688e-01 -9.179979e-02 -5.330471e-02   \n",
       "75%       28.000000      1.000000 -1.344225e-01 -9.177575e-02 -4.901487e-02   \n",
       "max     9103.000000      1.000000  1.305674e+01  7.047581e+01  1.433028e+01   \n",
       "\n",
       "       ...            30            31            32            33  \\\n",
       "count  ...  7.009300e+04  7.009300e+04  7.009300e+04  7.009300e+04   \n",
       "mean   ...  2.158806e-15 -9.796535e-16  1.003172e-15  1.951197e-15   \n",
       "std    ...  1.000000e+00  1.000000e+00  1.000000e+00  1.000000e+00   \n",
       "min    ... -1.551889e+01 -1.525576e+01 -1.477572e+01 -2.675764e+01   \n",
       "25%    ... -1.473662e-01 -1.105436e-01 -6.986297e-03 -6.053014e-02   \n",
       "50%    ... -9.613595e-02 -7.602506e-02 -6.986297e-03 -2.839002e-02   \n",
       "75%    ... -9.613595e-02  9.143066e-02  1.444176e-01  4.195427e-02   \n",
       "max    ...  2.213326e+01  2.164702e+01  3.373339e+01  3.495607e+01   \n",
       "\n",
       "                 34            35            36            37            38  \\\n",
       "count  7.009300e+04  7.009300e+04  7.009300e+04  7.009300e+04  7.009300e+04   \n",
       "mean   3.104196e-15  2.841542e-15  1.223756e-15 -4.212996e-16  2.066355e-15   \n",
       "std    1.000000e+00  1.000000e+00  1.000000e+00  1.000000e+00  1.000000e+00   \n",
       "min   -2.175713e+01 -1.970601e+01 -2.217472e+01 -1.997515e+01 -2.282036e+01   \n",
       "25%   -9.974183e-02 -6.104461e-02 -7.053401e-02 -1.318513e-01 -2.268472e-01   \n",
       "50%   -9.974183e-02 -4.696285e-02 -7.053401e-02 -1.163162e-01 -7.587787e-02   \n",
       "75%    1.662670e-02  1.208885e-01  9.527417e-02  1.873552e-02  8.979095e-02   \n",
       "max    2.896554e+01  2.125113e+01  2.907277e+01  2.955546e+01  2.812713e+01   \n",
       "\n",
       "                 39  \n",
       "count  70093.000000  \n",
       "mean       1.807633  \n",
       "std        0.391646  \n",
       "min        0.111263  \n",
       "25%        1.506938  \n",
       "50%        1.785330  \n",
       "75%        2.004321  \n",
       "max        3.190612  \n",
       "\n",
       "[8 rows x 40 columns]"
      ]
     },
     "execution_count": 47,
     "metadata": {},
     "output_type": "execute_result"
    }
   ],
   "source": [
    "pd.DataFrame(data=x_fraud_processed).describe()"
   ]
  },
  {
   "cell_type": "markdown",
   "metadata": {},
   "source": [
    "### To-do general:\n",
    "- Check details of PCA (whitening, do we correctly center around the mean?, ..)\n",
    "- Check what happens if only taking columns with has_id\n",
    "- Try to .groupby().aggregate() the max of the score over the columns that identify a user"
   ]
  },
  {
   "cell_type": "markdown",
   "metadata": {},
   "source": [
    "#### To-do autoencoder\n",
    "- Scaling outside of autoencoder (don't scale binary columns, for instance)\n",
    "- Custom loss model (for binary cross-entropy loss, ...)\n",
    "- Getting the middle layer (hidden representation) and do outlier scores on those"
   ]
  },
  {
   "cell_type": "code",
   "execution_count": 52,
   "metadata": {},
   "outputs": [],
   "source": [
    "from keras.optimizers import Adam\n",
    "adam = Adam(learning_rate=1.E-4)\n",
    "clf = AutoEncoder(\n",
    "    hidden_neurons=[30, 20, 30],\n",
    "    hidden_activation='elu',\n",
    "    output_activation='linear',\n",
    "    optimizer=adam,\n",
    "    epochs=8,\n",
    "    batch_size=16,\n",
    "    dropout_rate=0.2,\n",
    "    l2_regularizer=0.0,\n",
    "    validation_size=0.1,\n",
    "    preprocessing=True,\n",
    "    verbose=1,\n",
    "    random_state=1,\n",
    "    contamination=0.1,\n",
    ")"
   ]
  },
  {
   "cell_type": "code",
   "execution_count": 53,
   "metadata": {},
   "outputs": [
    {
     "name": "stdout",
     "output_type": "stream",
     "text": [
      "Model: \"sequential_2\"\n",
      "_________________________________________________________________\n",
      "Layer (type)                 Output Shape              Param #   \n",
      "=================================================================\n",
      "dense_7 (Dense)              (None, 40)                1640      \n",
      "_________________________________________________________________\n",
      "dropout_6 (Dropout)          (None, 40)                0         \n",
      "_________________________________________________________________\n",
      "dense_8 (Dense)              (None, 40)                1640      \n",
      "_________________________________________________________________\n",
      "dropout_7 (Dropout)          (None, 40)                0         \n",
      "_________________________________________________________________\n",
      "dense_9 (Dense)              (None, 30)                1230      \n",
      "_________________________________________________________________\n",
      "dropout_8 (Dropout)          (None, 30)                0         \n",
      "_________________________________________________________________\n",
      "dense_10 (Dense)             (None, 20)                620       \n",
      "_________________________________________________________________\n",
      "dropout_9 (Dropout)          (None, 20)                0         \n",
      "_________________________________________________________________\n",
      "dense_11 (Dense)             (None, 30)                630       \n",
      "_________________________________________________________________\n",
      "dropout_10 (Dropout)         (None, 30)                0         \n",
      "_________________________________________________________________\n",
      "dense_12 (Dense)             (None, 40)                1240      \n",
      "=================================================================\n",
      "Total params: 7,000\n",
      "Trainable params: 7,000\n",
      "Non-trainable params: 0\n",
      "_________________________________________________________________\n",
      "None\n",
      "Train on 63083 samples, validate on 7010 samples\n",
      "Epoch 1/8\n",
      "63083/63083 [==============================] - 15s 236us/step - loss: 0.9974 - val_loss: 0.7740\n",
      "Epoch 2/8\n",
      "63083/63083 [==============================] - 11s 175us/step - loss: 0.8811 - val_loss: 0.6979\n",
      "Epoch 3/8\n",
      "63083/63083 [==============================] - 11s 171us/step - loss: 0.8347 - val_loss: 0.6559\n",
      "Epoch 4/8\n",
      "63083/63083 [==============================] - 11s 173us/step - loss: 0.8041 - val_loss: 0.6263\n",
      "Epoch 5/8\n",
      "63083/63083 [==============================] - 12s 184us/step - loss: 0.7864 - val_loss: 0.6086\n",
      "Epoch 6/8\n",
      "63083/63083 [==============================] - 14s 228us/step - loss: 0.7730 - val_loss: 0.5941\n",
      "Epoch 7/8\n",
      "63083/63083 [==============================] - 14s 225us/step - loss: 0.7628 - val_loss: 0.5833\n",
      "Epoch 8/8\n",
      "63083/63083 [==============================] - 12s 194us/step - loss: 0.7513 - val_loss: 0.5721\n"
     ]
    },
    {
     "data": {
      "text/plain": [
       "AutoEncoder(batch_size=16, contamination=0.1, dropout_rate=0.2, epochs=8,\n",
       "      hidden_activation='elu', hidden_neurons=[30, 20, 30],\n",
       "      l2_regularizer=0.0,\n",
       "      loss=<function mean_squared_error at 0x7fb9a7318d90>,\n",
       "      optimizer=<keras.optimizers.Adam object at 0x7fb9a04c99b0>,\n",
       "      output_activation='linear', preprocessing=True, random_state=1,\n",
       "      validation_size=0.1, verbose=1)"
      ]
     },
     "execution_count": 53,
     "metadata": {},
     "output_type": "execute_result"
    }
   ],
   "source": [
    "clf.fit(x_fraud_processed)"
   ]
  },
  {
   "cell_type": "code",
   "execution_count": 54,
   "metadata": {},
   "outputs": [],
   "source": [
    "y_train_scores = clf.decision_scores_  # raw outlier scores\n",
    "y_train_scores = np.clip(y_train_scores, 0, 50) # for visual purposes"
   ]
  },
  {
   "cell_type": "code",
   "execution_count": 98,
   "metadata": {},
   "outputs": [],
   "source": [
    "aggregate_over_uid = True\n",
    "y_train_df = pd.DataFrame(columns=['score', 'uid', 'agg_score'])\n",
    "y_train_df['score'] = y_train_scores\n",
    "\n",
    "if aggregate_over_uid:\n",
    "    x_fraud['D1n'] = np.floor(x_fraud.TransactionDT / (24*60*60)) - x_fraud.D1\n",
    "    x_fraud['uid'] = x_fraud.card1.astype(str)+'_'+x_fraud.addr1.astype(str)+'_'+x_fraud.D1n.astype(str)\n",
    "    y_train_df['uid'] = x_fraud.reset_index()['uid']\n",
    "    y_train_df['agg_score'] = y_train_df.groupby('uid')['score'].transform('max')\n",
    "y_train_scores = y_train_df['agg_score']"
   ]
  },
  {
   "cell_type": "code",
   "execution_count": 99,
   "metadata": {},
   "outputs": [
    {
     "data": {
      "image/png": "[encoded data removed]",
      "text/plain": [
       "<Figure size 432x288 with 1 Axes>"
      ]
     },
     "metadata": {
      "needs_background": "light"
     },
     "output_type": "display_data"
    }
   ],
   "source": [
    "res = plot_outlier_scores(y_fraud.values, y_train_df['agg_score'].values, \n",
    "                          bw=1.0, title='Fraud, Autoencoder outlier scores')"
   ]
  },
  {
   "cell_type": "code",
   "execution_count": 103,
   "metadata": {},
   "outputs": [
    {
     "data": {
      "text/plain": [
       "70093"
      ]
     },
     "execution_count": 103,
     "metadata": {},
     "output_type": "execute_result"
    }
   ],
   "source": [
    "len(y_train_scores)"
   ]
  },
  {
   "cell_type": "markdown",
   "metadata": {},
   "source": [
    "30/20/30 \n",
    "- with all 200 K points: AUC 0.717\n",
    "- with only has_id (70K): AUC 0.743\n",
    "- with only has_id (70K) AND aggregated score over uid: AUC 0.733\n"
   ]
  },
  {
   "cell_type": "code",
   "execution_count": 58,
   "metadata": {},
   "outputs": [
    {
     "data": {
      "image/png": "[encoded data removed]",
      "text/plain": [
       "<Figure size 1152x144 with 2 Axes>"
      ]
     },
     "metadata": {
      "needs_background": "light"
     },
     "output_type": "display_data"
    }
   ],
   "source": [
    "res = plot_top_N(y_fraud.values, y_train_scores, N=1000)"
   ]
  },
  {
   "cell_type": "markdown",
   "metadata": {},
   "source": [
    "- with all 200 K points: 18.3%\n",
    "- with only has_id (70K): 18.7%\n"
   ]
  },
  {
   "cell_type": "code",
   "execution_count": 56,
   "metadata": {},
   "outputs": [],
   "source": [
    "ifo = IsolationForest(n_estimators=100, max_samples=1024, random_state=1, contamination=0.01, behaviour='new')\n",
    "ifo.fit(x_fraud_processed)\n",
    "kdd_isof_scores = - ifo.decision_function(x_fraud_processed)"
   ]
  },
  {
   "cell_type": "code",
   "execution_count": 57,
   "metadata": {},
   "outputs": [
    {
     "data": {
      "image/png": "[encoded data removed]",
      "text/plain": [
       "<Figure size 432x288 with 1 Axes>"
      ]
     },
     "metadata": {
      "needs_background": "light"
     },
     "output_type": "display_data"
    }
   ],
   "source": [
    "res = plot_outlier_scores(y_fraud.values, kdd_isof_scores, \n",
    "                          bw=0.01, title='Fraud, Isol outlier scores')"
   ]
  },
  {
   "cell_type": "markdown",
   "metadata": {},
   "source": [
    "- with all 200 K points: AUC 0.71...\n",
    "- with only has_id (70K): AUC 0.741\n"
   ]
  },
  {
   "cell_type": "code",
   "execution_count": 59,
   "metadata": {},
   "outputs": [
    {
     "data": {
      "image/png": "[encoded data removed]",
      "text/plain": [
       "<Figure size 1152x144 with 2 Axes>"
      ]
     },
     "metadata": {
      "needs_background": "light"
     },
     "output_type": "display_data"
    }
   ],
   "source": [
    "res = plot_top_N(y_fraud.values, kdd_isof_scores, N=1000)"
   ]
  },
  {
   "cell_type": "markdown",
   "metadata": {},
   "source": [
    "- with all 200 K points: 18.3%\n",
    "- with only has_id (70K): 18.7%\n"
   ]
  },
  {
   "cell_type": "code",
   "execution_count": null,
   "metadata": {},
   "outputs": [],
   "source": []
  }
 ],
 "metadata": {
  "kernelspec": {
   "display_name": "Python 3",
   "language": "python",
   "name": "python3"
  },
  "language_info": {
   "codemirror_mode": {
    "name": "ipython",
    "version": 3
   },
   "file_extension": ".py",
   "mimetype": "text/x-python",
   "name": "python",
   "nbconvert_exporter": "python",
   "pygments_lexer": "ipython3",
   "version": "3.7.3"
  }
 },
 "nbformat": 4,
 "nbformat_minor": 2
}
