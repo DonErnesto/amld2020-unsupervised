{
 "cells": [
  {
   "cell_type": "markdown",
   "metadata": {
    "colab_type": "text",
    "id": "view-in-github"
   },
   "source": [
    "<a href=\"https://colab.research.google.com/github/DonErnesto/amld2020-unsupervised/blob/master/notebooks/exercises_1_colab.ipynb\" target=\"_parent\"><img src=\"https://colab.research.google.com/assets/colab-badge.svg\" alt=\"Open In Colab\"/></a>"
   ]
  },
  {
   "cell_type": "markdown",
   "metadata": {
    "colab_type": "text",
    "id": "0ek6rUiPXRC-"
   },
   "source": [
    "# Workshop challenge"
   ]
  },
  {
   "cell_type": "markdown",
   "metadata": {
    "colab_type": "text",
    "id": "FsyJ1d24Z9Je"
   },
   "source": [
    "# Package installing and data import"
   ]
  },
  {
   "cell_type": "code",
   "execution_count": null,
   "metadata": {
    "colab": {},
    "colab_type": "code",
    "id": "yezB1XDoXRDM"
   },
   "outputs": [],
   "source": [
    "# Clode git repository for access to Outlierutils and input data files\n",
    "#!git clone https://github.com/DonErnesto/amld2020-unsupervised.git"
   ]
  },
  {
   "cell_type": "code",
   "execution_count": 1,
   "metadata": {
    "colab": {
     "base_uri": "https://localhost:8080/",
     "height": 170
    },
    "colab_type": "code",
    "id": "brdJ1IWkc2UK",
    "outputId": "24ea451a-434e-470c-9e6b-cdb94920df04"
   },
   "outputs": [
    {
     "name": "stdout",
     "output_type": "stream",
     "text": [
      "/bin/sh: 1: curl: not found\n",
      "/bin/sh: 1: curl: not found\n"
     ]
    }
   ],
   "source": [
    "# Now only load the required files...\n",
    "\n",
    "!curl -O https://raw.githubusercontent.com/amld/workshop-unsupervised-fraud/master/outlierutils.py\n",
    "!curl -O https://raw.githubusercontent.com/amld/workshop-unsupervised-fraud/master/data/x_kdd.pkl\n",
    "\n",
    "\n"
   ]
  },
  {
   "cell_type": "code",
   "execution_count": null,
   "metadata": {
    "colab": {
     "base_uri": "https://localhost:8080/",
     "height": 309
    },
    "colab_type": "code",
    "id": "eI3sCkfBZoXX",
    "outputId": "3f2178ef-e537-4d64-d043-7312dbfdf49c"
   },
   "outputs": [],
   "source": [
    "# Install pyod package\n",
    "!pip install pyod"
   ]
  },
  {
   "cell_type": "markdown",
   "metadata": {
    "colab_type": "text",
    "id": "PpkjzX_2XRDD"
   },
   "source": [
    "## Imports "
   ]
  },
  {
   "cell_type": "code",
   "execution_count": null,
   "metadata": {
    "colab": {
     "base_uri": "https://localhost:8080/",
     "height": 34
    },
    "colab_type": "code",
    "id": "_MZmQrSTXRDF",
    "outputId": "ef404de3-cb2b-4f31-88cb-2b88935efb6e"
   },
   "outputs": [],
   "source": [
    "%tensorflow_version 1.x\n",
    "# standard library imports\n",
    "import os\n",
    "import sys\n",
    "from collections import Counter\n",
    "\n",
    "# pandas, seaborn etc.\n",
    "import seaborn as sns\n",
    "import sklearn \n",
    "import matplotlib.pyplot as plt\n",
    "%matplotlib inline\n",
    "import pandas as pd\n",
    "import numpy as np\n",
    "\n",
    "# sklearn outlier models\n",
    "from sklearn.neighbors import NearestNeighbors\n",
    "# from sklearn.neighbors import LocalOutlierFactor\n",
    "# from sklearn.ensemble import IsolationForest\n",
    "from sklearn.cluster import DBSCAN\n",
    "from sklearn.mixture import GaussianMixture\n",
    "\n",
    "# other sklearn functions\n",
    "from sklearn.decomposition import PCA\n",
    "from sklearn.covariance import MinCovDet, EmpiricalCovariance\n",
    "from sklearn.metrics import roc_auc_score\n",
    "from sklearn.preprocessing import StandardScaler, RobustScaler, MinMaxScaler\n",
    "from sklearn.preprocessing import LabelEncoder\n",
    "from sklearn.preprocessing import scale as preproc_scale\n",
    "from sklearn.manifold import TSNE\n",
    "\n",
    "# pyod\n",
    "import pyod\n",
    "from pyod.models.auto_encoder import AutoEncoder\n",
    "from pyod.models.knn import KNN\n",
    "from pyod.models.lof import LOF\n",
    "from pyod.models.pca import PCA\n",
    "from pyod.models.iforest import IForest\n",
    "\n"
   ]
  },
  {
   "cell_type": "code",
   "execution_count": 2,
   "metadata": {
    "colab": {},
    "colab_type": "code",
    "id": "hDdOJyUvZaeZ"
   },
   "outputs": [
    {
     "ename": "ModuleNotFoundError",
     "evalue": "No module named 'outlierutils'",
     "output_type": "error",
     "traceback": [
      "\u001b[0;31m---------------------------------------------------------------------------\u001b[0m",
      "\u001b[0;31mModuleNotFoundError\u001b[0m                       Traceback (most recent call last)",
      "\u001b[0;32m<ipython-input-2-ebb4f0b33016>\u001b[0m in \u001b[0;36m<module>\u001b[0;34m\u001b[0m\n\u001b[1;32m      1\u001b[0m \u001b[0;31m#sys.path.append(\"./amld2020-unsupervised/\") #to enable importing from outlierutils\u001b[0m\u001b[0;34m\u001b[0m\u001b[0;34m\u001b[0m\u001b[0;34m\u001b[0m\u001b[0m\n\u001b[0;32m----> 2\u001b[0;31m \u001b[0;32mfrom\u001b[0m \u001b[0moutlierutils\u001b[0m \u001b[0;32mimport\u001b[0m \u001b[0mplot_top_N\u001b[0m\u001b[0;34m,\u001b[0m \u001b[0mplot_outlier_scores\u001b[0m \u001b[0;31m# For easy plotting and evaluation\u001b[0m\u001b[0;34m\u001b[0m\u001b[0;34m\u001b[0m\u001b[0m\n\u001b[0m",
      "\u001b[0;31mModuleNotFoundError\u001b[0m: No module named 'outlierutils'"
     ]
    }
   ],
   "source": [
    "#sys.path.append(\"./amld2020-unsupervised/\") #to enable importing from outlierutils\n",
    "from outlierutils import plot_top_N, plot_outlier_scores # For easy plotting and evaluation"
   ]
  },
  {
   "cell_type": "markdown",
   "metadata": {
    "colab_type": "text",
    "id": "G9DYhZQRXRDQ"
   },
   "source": [
    "## Data loading"
   ]
  },
  {
   "cell_type": "code",
   "execution_count": null,
   "metadata": {
    "colab": {},
    "colab_type": "code",
    "id": "eZWbReXmXRDS"
   },
   "outputs": [],
   "source": [
    "data_path = './'\n",
    "x_kdd = pd.read_pickle(os.path.join(data_path, 'x_kdd.pkl'))\n"
   ]
  },
  {
   "cell_type": "code",
   "execution_count": null,
   "metadata": {
    "colab": {
     "base_uri": "https://localhost:8080/",
     "height": 51
    },
    "colab_type": "code",
    "id": "I7S-ifKHXRDW",
    "outputId": "573ebe03-58dd-4317-948d-d4e345b3571d"
   },
   "outputs": [],
   "source": [
    "print('Number of points: {}'.format(len(x_kdd)))"
   ]
  },
  {
   "cell_type": "code",
   "execution_count": null,
   "metadata": {},
   "outputs": [],
   "source": [
    "url = \"https://unsupervised-label-api-pg.herokuapp.com/\"\n",
    "ls_test = LabelSubmitter(username='test', \n",
    "                           password='xx', \n",
    "                           url=url)\n",
    "#ls_remote.get_jwt_token() # The token will be valid for 3 hours. So run this cell only once"
   ]
  },
  {
   "cell_type": "code",
   "execution_count": null,
   "metadata": {},
   "outputs": [],
   "source": [
    "# To submit predictions for the POSITIVE class (each submitted point will be treated as a positive prediction), do:\n",
    "ls_remote.post_predictions(idx=np.array([1, 2, 3, 10]), endpoint='kdd')\n"
   ]
  },
  {
   "cell_type": "code",
   "execution_count": null,
   "metadata": {
    "colab": {},
    "colab_type": "code",
    "id": "xavaLny_XRFU"
   },
   "outputs": [],
   "source": [
    "# To retrieve all previous predictions (with their true labels), do:\n",
    "ls_remote.get_labels(endpoint='kdd')"
   ]
  },
  {
   "cell_type": "code",
   "execution_count": null,
   "metadata": {
    "colab": {},
    "colab_type": "code",
    "id": "FwQUNlojXRFX"
   },
   "outputs": [],
   "source": [
    "# Note that one can not undo predictions, and predicting the same points twice has no effect\n",
    "ls_remote.post_predictions(idx=np.array([1, 2, 3, 10]), endpoint='kdd')"
   ]
  },
  {
   "cell_type": "code",
   "execution_count": null,
   "metadata": {},
   "outputs": [],
   "source": [
    "del ls_test"
   ]
  },
  {
   "cell_type": "markdown",
   "metadata": {},
   "source": [
    "## Challenge\n",
    "\n",
    "The target is to predict as many true positives as possible (each positive gets you a positive score), and as few negatives as possible (each negative subtracts a small score). \n",
    "Be selective, just submitting all points, or random points, will not get you a good score :)\n",
    "\n",
    "- Each prediction costs **1'000** points (not implemented yet..)\n",
    "- Each positive found gets **500** points\n",
    "- Each false negative costs **10** points\n"
   ]
  },
  {
   "cell_type": "markdown",
   "metadata": {},
   "source": [
    "**Hint**\n",
    "- Don't forget to dummy-encode/one-hot-encode the categorical variables, and normalized the dataset\n",
    "- Try out several unsupervised algorithms, and see how they perform against eachother. Two strongly correlating predictions are likely to be both good \n"
   ]
  },
  {
   "cell_type": "code",
   "execution_count": 3,
   "metadata": {},
   "outputs": [
    {
     "ename": "NameError",
     "evalue": "name 'LabelSubmitter' is not defined",
     "output_type": "error",
     "traceback": [
      "\u001b[0;31m---------------------------------------------------------------------------\u001b[0m",
      "\u001b[0;31mNameError\u001b[0m                                 Traceback (most recent call last)",
      "\u001b[0;32m<ipython-input-3-8d6553539bfd>\u001b[0m in \u001b[0;36m<module>\u001b[0;34m\u001b[0m\n\u001b[0;32m----> 1\u001b[0;31m ls = LabelSubmitter(username='name', \n\u001b[0m\u001b[1;32m      2\u001b[0m                            \u001b[0mpassword\u001b[0m\u001b[0;34m=\u001b[0m\u001b[0;34m'pw'\u001b[0m\u001b[0;34m,\u001b[0m\u001b[0;34m\u001b[0m\u001b[0;34m\u001b[0m\u001b[0m\n\u001b[1;32m      3\u001b[0m                            url=url)\n",
      "\u001b[0;31mNameError\u001b[0m: name 'LabelSubmitter' is not defined"
     ]
    }
   ],
   "source": [
    "ls = LabelSubmitter(username='name', \n",
    "                           password='pw', \n",
    "                           url=url)"
   ]
  },
  {
   "cell_type": "code",
   "execution_count": null,
   "metadata": {
    "colab": {},
    "colab_type": "code",
    "id": "lvz0pAPzXRFa"
   },
   "outputs": [],
   "source": []
  }
 ],
 "metadata": {
  "colab": {
   "include_colab_link": true,
   "name": "challenge_colab.ipynb",
   "provenance": [],
   "toc_visible": true
  },
  "kernelspec": {
   "display_name": "Python 3",
   "language": "python",
   "name": "python3"
  },
  "language_info": {
   "codemirror_mode": {
    "name": "ipython",
    "version": 3
   },
   "file_extension": ".py",
   "mimetype": "text/x-python",
   "name": "python",
   "nbconvert_exporter": "python",
   "pygments_lexer": "ipython3",
   "version": "3.7.3"
  }
 },
 "nbformat": 4,
 "nbformat_minor": 1
}
