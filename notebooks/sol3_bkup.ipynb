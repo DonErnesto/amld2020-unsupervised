{
 "cells": [
  {
   "cell_type": "markdown",
   "metadata": {},
   "source": [
    "## The main workshop challenge\n",
    "\n",
    "This Notebook demonstrates some solutions for unsupervised fraud detection strategies. \n",
    "\n",
    "Labels are not used for tuning. \n",
    "\n"
   ]
  },
  {
   "cell_type": "code",
   "execution_count": 15,
   "metadata": {
    "collapsed": true
   },
   "outputs": [],
   "source": [
    "# standard library imports\n",
    "import os\n",
    "import sys\n",
    "from collections import Counter\n",
    "\n",
    "# pandas, seaborn etc.\n",
    "import seaborn as sns\n",
    "import sklearn \n",
    "import matplotlib.pyplot as plt\n",
    "%matplotlib inline\n",
    "import pandas as pd\n",
    "import numpy as np\n",
    "\n",
    "# sklearn outlier models\n",
    "from sklearn.neighbors import NearestNeighbors\n",
    "from sklearn.neighbors import LocalOutlierFactor\n",
    "from sklearn.ensemble import IsolationForest\n",
    "from sklearn.cluster import DBSCAN\n",
    "\n",
    "# other sklearn functions\n",
    "from sklearn.decomposition import PCA\n",
    "from sklearn.covariance import MinCovDet, EmpiricalCovariance\n",
    "from sklearn.metrics import roc_auc_score\n",
    "from sklearn.preprocessing import StandardScaler, RobustScaler, MinMaxScaler\n",
    "from sklearn.preprocessing import LabelEncoder\n",
    "from sklearn.preprocessing import scale as preproc_scale\n",
    "\n",
    "# pyod\n",
    "import pyod\n",
    "from pyod.models.auto_encoder import AutoEncoder\n",
    "from pyod.models.knn import KNN   \n",
    "\n",
    "sys.path.append(\"..\") #to enable importing from ../outlierutils"
   ]
  },
  {
   "cell_type": "code",
   "execution_count": 54,
   "metadata": {
    "collapsed": true
   },
   "outputs": [],
   "source": [
    "from outlierutils import plot_top_N, plot_outlier_scores, LabelSubmitter"
   ]
  },
  {
   "cell_type": "code",
   "execution_count": 3,
   "metadata": {},
   "outputs": [
    {
     "name": "stdout",
     "output_type": "stream",
     "text": [
      "Shape of the X-data: (200000, 434)\n",
      "Mean of the y variable: 3.01%\n"
     ]
    }
   ],
   "source": [
    "data_path = '../data/'\n",
    "x_fraud = pd.read_pickle(os.path.join(data_path, 'x_fraud.pkl'))\n",
    "y_fraud = pd.read_pickle(os.path.join(data_path, 'y_fraud.pkl'))\n",
    "\n",
    "print('Shape of the X-data: {}'.format(x_fraud.shape))\n",
    "print('Mean of the y variable: {:.2%}'.format(y_fraud.mean()))"
   ]
  },
  {
   "cell_type": "code",
   "execution_count": 21,
   "metadata": {
    "collapsed": true
   },
   "outputs": [],
   "source": [
    "def label_encoding(df, columns=None):\n",
    "    if columns is None:\n",
    "        columns = df.columns\n",
    "    for col in columns:\n",
    "        le = LabelEncoder()\n",
    "        le.fit(list(df[col].astype(str).values))\n",
    "        df.loc[:, col] = le.transform(list(df.loc[:, col].astype(str).values))\n",
    "    return df\n",
    "\n",
    "def median_imputation(df, median_impute_limit=0.95, impute_val=-999):\n",
    "    \"\"\" inf/nan Values that occur more often than median_impute_limit are imputed with the median\n",
    "    when less often, they are imputed by impute_val. \n",
    "    Set median_impute_limit to 0 to always do median imputation\n",
    "    \"\"\"\n",
    "    df = df.replace([np.inf, -np.inf], np.nan)\n",
    "    for col in df.columns:\n",
    "        if not df[col].dtype == 'object':\n",
    "            mean_nan = df[col].isna().mean()\n",
    "            if mean_nan > median_impute_limit: # then, impute by median\n",
    "                df[col] = df[col].fillna(df[col].median())\n",
    "            elif mean_nan > 0 and mean_nan <= median_impute_limit:\n",
    "                df[col] = df[col].fillna(impute_val)\n",
    "                \n",
    "    return df"
   ]
  },
  {
   "cell_type": "code",
   "execution_count": 5,
   "metadata": {
    "collapsed": true
   },
   "outputs": [],
   "source": [
    "column_groups = {'card': [c for c in x_fraud.columns if c.startswith('card')],\n",
    "                   'addr': [c for c in x_fraud.columns if c.startswith('addr')],\n",
    "                   'dist1': ['dist1', 'dist2'],\n",
    "                   'C' : [c for c in x_fraud.columns if c.startswith('C')],\n",
    "                   'D' : [c for c in x_fraud.columns if c.lstrip('D').isnumeric()],\n",
    "                   'M' : [c for c in x_fraud.columns if c.startswith('M')],\n",
    "                   'id' : [c for c in x_fraud.columns if c.startswith('id')],   \n",
    "                   'V': [c for c in x_fraud.columns if c.startswith('V')],\n",
    "                   'trans': [c for c in x_fraud.columns if c.startswith('Trans')]}\n"
   ]
  },
  {
   "cell_type": "markdown",
   "metadata": {},
   "source": [
    "### Card columns\n",
    "\n",
    "These are supposedly categorical, but have many unique values. Leave numerical, except for card4 and card6 (that have only 4 unique values). Do a mode fill on the NaN columns"
   ]
  },
  {
   "cell_type": "code",
   "execution_count": 6,
   "metadata": {
    "collapsed": true
   },
   "outputs": [],
   "source": [
    "card_cols = pd.get_dummies(x_fraud[column_groups['card']], columns=['card4', 'card6'], drop_first=True)"
   ]
  },
  {
   "cell_type": "code",
   "execution_count": 7,
   "metadata": {
    "collapsed": true
   },
   "outputs": [],
   "source": [
    "card_cols = card_cols.fillna(card_cols.mode().iloc[0]) #NB: iloc: fillna needs a 1-D object to be applied on columns"
   ]
  },
  {
   "cell_type": "code",
   "execution_count": 8,
   "metadata": {
    "collapsed": true
   },
   "outputs": [],
   "source": [
    "# Check: No Nan's, no text\n",
    "assert not card_cols.isna().sum().sum(), 'NaNs still present'\n",
    "assert not [c for c in card_cols.dtypes if c==object]"
   ]
  },
  {
   "cell_type": "code",
   "execution_count": 9,
   "metadata": {
    "collapsed": true
   },
   "outputs": [],
   "source": [
    "card_colnames_dummies = [col for col in card_cols.columns if col.startswith('card4') or col.startswith('card6')]\n",
    "card_colnames_numeric = [col for col in card_cols.columns if col not in card_colnames_dummies]"
   ]
  },
  {
   "cell_type": "markdown",
   "metadata": {},
   "source": [
    "### Dist columns\n",
    "\n",
    "These represent \"distances between (not limited) billing address, mailing address, zip code, IP address, phone area, etc.”, thus are numeric"
   ]
  },
  {
   "cell_type": "code",
   "execution_count": 10,
   "metadata": {
    "collapsed": true
   },
   "outputs": [],
   "source": [
    "x_fraud[column_groups['dist1']].isna().mean()\n",
    "dist_cols = pd.concat((x_fraud[['dist1']].fillna(x_fraud[['dist1']].median()), \n",
    "                        x_fraud[['dist1']].isna().astype(int).rename(columns={'dist1': 'dist1_nan'}),\n",
    "                      x_fraud[['dist2']].fillna(x_fraud[['dist2']].median()), \n",
    "                        x_fraud[['dist2']].isna().astype(int).rename(columns={'dist2': 'dist2_nan'})), axis=1)"
   ]
  },
  {
   "cell_type": "code",
   "execution_count": 40,
   "metadata": {},
   "outputs": [
    {
     "data": {
      "text/plain": [
       "(200000, 4)"
      ]
     },
     "execution_count": 40,
     "metadata": {},
     "output_type": "execute_result"
    }
   ],
   "source": [
    "dist_cols.shape"
   ]
  },
  {
   "cell_type": "markdown",
   "metadata": {},
   "source": [
    "### Address Columns \n",
    "According to the description, these columns are categorical. Do not seem very useful, judging at the many levels present. \n",
    "Skip these. \n"
   ]
  },
  {
   "cell_type": "code",
   "execution_count": 11,
   "metadata": {},
   "outputs": [
    {
     "data": {
      "text/plain": [
       "addr1    273\n",
       "addr2     57\n",
       "dtype: int64"
      ]
     },
     "execution_count": 11,
     "metadata": {},
     "output_type": "execute_result"
    }
   ],
   "source": [
    "x_fraud[column_groups['addr']].nunique()\n"
   ]
  },
  {
   "cell_type": "markdown",
   "metadata": {},
   "source": [
    "### C- columns\n",
    "\n",
    "The C-columns are numerical, but can easily be compressed"
   ]
  },
  {
   "cell_type": "code",
   "execution_count": 12,
   "metadata": {},
   "outputs": [
    {
     "name": "stdout",
     "output_type": "stream",
     "text": [
      "float32    14\n",
      "dtype: int64\n",
      "C1     48411.460938\n",
      "C2     65572.851562\n",
      "C3         0.022945\n",
      "C4     12482.175781\n",
      "C5       532.293579\n",
      "C6     12807.372070\n",
      "C7     11195.851562\n",
      "C8     26310.460938\n",
      "C9       235.686508\n",
      "C10    26480.740234\n",
      "C11    23780.302734\n",
      "C12    22048.548828\n",
      "C13    28602.167969\n",
      "C14     5625.250977\n",
      "dtype: float32\n"
     ]
    }
   ],
   "source": [
    "print(x_fraud[column_groups['C']].dtypes.value_counts())\n",
    "print(x_fraud[column_groups['C']].var())"
   ]
  },
  {
   "cell_type": "code",
   "execution_count": 73,
   "metadata": {},
   "outputs": [
    {
     "data": {
      "image/png": "[encoded data removed]",
      "text/plain": [
       "<Figure size 432x288 with 2 Axes>"
      ]
     },
     "metadata": {
      "needs_background": "light"
     },
     "output_type": "display_data"
    }
   ],
   "source": [
    "sns.heatmap(x_fraud[column_groups['C']].corr());"
   ]
  },
  {
   "cell_type": "code",
   "execution_count": 23,
   "metadata": {},
   "outputs": [
    {
     "name": "stdout",
     "output_type": "stream",
     "text": [
      "[75.47 90.85 97.99]\n"
     ]
    }
   ],
   "source": [
    "C_original_cols = preproc_scale(x_fraud[column_groups['C']])\n",
    "pca = PCA(n_components=3, whiten=True)\n",
    "C_transformed_cols = pca.fit_transform(C_original_cols)\n",
    "\n",
    "var1=np.cumsum(np.round(pca.explained_variance_ratio_, decimals=4)*100)\n",
    "print(var1) # NB: 3 variables recovers 98% of variance\n"
   ]
  },
  {
   "cell_type": "markdown",
   "metadata": {},
   "source": [
    "### D- columns"
   ]
  },
  {
   "cell_type": "markdown",
   "metadata": {},
   "source": [
    "D1-D15: timedelta, such as days between previous transaction, etc."
   ]
  },
  {
   "cell_type": "code",
   "execution_count": 26,
   "metadata": {},
   "outputs": [
    {
     "name": "stdout",
     "output_type": "stream",
     "text": [
      "[27.21 44.32 52.33 59.08 65.58 71.95 78.01 83.27 87.75 91.36]\n"
     ]
    }
   ],
   "source": [
    "D_imputed = median_imputation(x_fraud[column_groups['D']].copy(), median_impute_limit=0)\n",
    "D_original = preproc_scale(D_imputed)\n",
    "\n",
    "pca = PCA(n_components=10, whiten=True)\n",
    "D_transformed = pca.fit_transform(D_original)\n",
    "var1=np.cumsum(np.round(pca.explained_variance_ratio_, decimals=4)*100)\n",
    "print(var1) \n",
    "# Quite many components are needed for good reconstruction. \n",
    "# Take only 4 columns to reconstruct 60%\n",
    "D_transformed = D_transformed[:, :4]"
   ]
  },
  {
   "cell_type": "markdown",
   "metadata": {},
   "source": [
    "### V- columns\n",
    "There are 339 V-columns, that are supposedly very relevant. \n",
    "\"Vesta engineered rich features, including ranking, counting, and other entity relations.\" All numerical. "
   ]
  },
  {
   "cell_type": "code",
   "execution_count": 27,
   "metadata": {},
   "outputs": [
    {
     "data": {
      "text/plain": [
       "(200000, 339)"
      ]
     },
     "execution_count": 27,
     "metadata": {},
     "output_type": "execute_result"
    }
   ],
   "source": [
    "x_fraud[column_groups['V']].shape"
   ]
  },
  {
   "cell_type": "code",
   "execution_count": 30,
   "metadata": {},
   "outputs": [
    {
     "name": "stdout",
     "output_type": "stream",
     "text": [
      "[10.78 19.34 26.16 31.89 36.87 40.61 44.05 47.12 49.73 52.23 54.38 56.48\n",
      " 58.47 60.18 61.84 63.34 64.69 65.89 67.02 68.09 69.11 70.08 71.02 71.94\n",
      " 72.78]\n"
     ]
    }
   ],
   "source": [
    "V_original = median_imputation(x_fraud[column_groups['V']], median_impute_limit=0)\n",
    "V_original = preproc_scale(V_original)\n",
    "pca = PCA(n_components=25, whiten=True)\n",
    "V_transformed = pca.fit_transform(V_original)\n",
    "var1=np.cumsum(np.round(pca.explained_variance_ratio_, decimals=4)*100)\n",
    "print(var1) \n",
    "# With 25 columns (compression of more than 90%), we recover 73% of the signal"
   ]
  },
  {
   "cell_type": "markdown",
   "metadata": {},
   "source": [
    "### Transaction amount"
   ]
  },
  {
   "cell_type": "code",
   "execution_count": 33,
   "metadata": {},
   "outputs": [
    {
     "data": {
      "text/plain": [
       "count    200000.000000\n",
       "mean        129.828903\n",
       "std         207.672272\n",
       "min           0.292000\n",
       "25%          43.924999\n",
       "50%          74.000000\n",
       "75%         125.000000\n",
       "max        5278.950195\n",
       "Name: TransactionAmt, dtype: float64"
      ]
     },
     "execution_count": 33,
     "metadata": {},
     "output_type": "execute_result"
    }
   ],
   "source": [
    "x_fraud[column_groups['trans'][2]].describe()"
   ]
  },
  {
   "cell_type": "code",
   "execution_count": 43,
   "metadata": {
    "collapsed": true
   },
   "outputs": [],
   "source": [
    "log_trans_amount = np.log10(1 + x_fraud.loc[:, [column_groups['trans'][2]]])\n"
   ]
  },
  {
   "cell_type": "code",
   "execution_count": 44,
   "metadata": {
    "collapsed": true
   },
   "outputs": [],
   "source": [
    "x_fraud_processed = np.concatenate([card_cols[card_colnames_dummies].values, \n",
    "                                  dist_cols.values,\n",
    "                                  C_transformed_cols,\n",
    "                                  D_transformed,\n",
    "                                  V_transformed,\n",
    "                                  log_trans_amount], \n",
    "                                   axis=1)"
   ]
  },
  {
   "cell_type": "code",
   "execution_count": 46,
   "metadata": {},
   "outputs": [
    {
     "data": {
      "text/html": [
       "<div>\n",
       "<style scoped>\n",
       "    .dataframe tbody tr th:only-of-type {\n",
       "        vertical-align: middle;\n",
       "    }\n",
       "\n",
       "    .dataframe tbody tr th {\n",
       "        vertical-align: top;\n",
       "    }\n",
       "\n",
       "    .dataframe thead th {\n",
       "        text-align: right;\n",
       "    }\n",
       "</style>\n",
       "<table border=\"1\" class=\"dataframe\">\n",
       "  <thead>\n",
       "    <tr style=\"text-align: right;\">\n",
       "      <th></th>\n",
       "      <th>0</th>\n",
       "      <th>1</th>\n",
       "      <th>2</th>\n",
       "      <th>3</th>\n",
       "      <th>4</th>\n",
       "      <th>5</th>\n",
       "      <th>6</th>\n",
       "      <th>7</th>\n",
       "      <th>8</th>\n",
       "      <th>9</th>\n",
       "      <th>...</th>\n",
       "      <th>33</th>\n",
       "      <th>34</th>\n",
       "      <th>35</th>\n",
       "      <th>36</th>\n",
       "      <th>37</th>\n",
       "      <th>38</th>\n",
       "      <th>39</th>\n",
       "      <th>40</th>\n",
       "      <th>41</th>\n",
       "      <th>42</th>\n",
       "    </tr>\n",
       "  </thead>\n",
       "  <tbody>\n",
       "    <tr>\n",
       "      <th>count</th>\n",
       "      <td>200000.000000</td>\n",
       "      <td>200000.000000</td>\n",
       "      <td>200000.000000</td>\n",
       "      <td>200000.00000</td>\n",
       "      <td>200000.000000</td>\n",
       "      <td>200000.000000</td>\n",
       "      <td>200000.000000</td>\n",
       "      <td>200000.000000</td>\n",
       "      <td>200000.000000</td>\n",
       "      <td>200000.000000</td>\n",
       "      <td>...</td>\n",
       "      <td>2.000000e+05</td>\n",
       "      <td>2.000000e+05</td>\n",
       "      <td>2.000000e+05</td>\n",
       "      <td>2.000000e+05</td>\n",
       "      <td>2.000000e+05</td>\n",
       "      <td>2.000000e+05</td>\n",
       "      <td>2.000000e+05</td>\n",
       "      <td>2.000000e+05</td>\n",
       "      <td>2.000000e+05</td>\n",
       "      <td>200000.000000</td>\n",
       "    </tr>\n",
       "    <tr>\n",
       "      <th>mean</th>\n",
       "      <td>0.013170</td>\n",
       "      <td>0.303285</td>\n",
       "      <td>0.658555</td>\n",
       "      <td>0.31099</td>\n",
       "      <td>0.688870</td>\n",
       "      <td>0.000055</td>\n",
       "      <td>49.352595</td>\n",
       "      <td>0.658170</td>\n",
       "      <td>44.660740</td>\n",
       "      <td>0.922405</td>\n",
       "      <td>...</td>\n",
       "      <td>-6.909318e-16</td>\n",
       "      <td>-1.342926e-15</td>\n",
       "      <td>2.849347e-15</td>\n",
       "      <td>-1.227107e-15</td>\n",
       "      <td>8.014922e-16</td>\n",
       "      <td>4.691003e-16</td>\n",
       "      <td>-2.590355e-15</td>\n",
       "      <td>1.314007e-15</td>\n",
       "      <td>-1.633680e-15</td>\n",
       "      <td>1.901053</td>\n",
       "    </tr>\n",
       "    <tr>\n",
       "      <th>std</th>\n",
       "      <td>0.114003</td>\n",
       "      <td>0.459678</td>\n",
       "      <td>0.474196</td>\n",
       "      <td>0.46290</td>\n",
       "      <td>0.462957</td>\n",
       "      <td>0.007416</td>\n",
       "      <td>233.490245</td>\n",
       "      <td>0.474324</td>\n",
       "      <td>162.783195</td>\n",
       "      <td>0.267534</td>\n",
       "      <td>...</td>\n",
       "      <td>1.000000e+00</td>\n",
       "      <td>1.000000e+00</td>\n",
       "      <td>1.000000e+00</td>\n",
       "      <td>1.000000e+00</td>\n",
       "      <td>1.000000e+00</td>\n",
       "      <td>1.000000e+00</td>\n",
       "      <td>1.000000e+00</td>\n",
       "      <td>1.000000e+00</td>\n",
       "      <td>1.000000e+00</td>\n",
       "      <td>0.398599</td>\n",
       "    </tr>\n",
       "    <tr>\n",
       "      <th>min</th>\n",
       "      <td>0.000000</td>\n",
       "      <td>0.000000</td>\n",
       "      <td>0.000000</td>\n",
       "      <td>0.00000</td>\n",
       "      <td>0.000000</td>\n",
       "      <td>0.000000</td>\n",
       "      <td>0.000000</td>\n",
       "      <td>0.000000</td>\n",
       "      <td>0.000000</td>\n",
       "      <td>0.000000</td>\n",
       "      <td>...</td>\n",
       "      <td>-2.148762e+01</td>\n",
       "      <td>-2.576297e+01</td>\n",
       "      <td>-2.431370e+01</td>\n",
       "      <td>-1.794091e+01</td>\n",
       "      <td>-1.982840e+01</td>\n",
       "      <td>-3.781235e+01</td>\n",
       "      <td>-2.620229e+01</td>\n",
       "      <td>-1.866196e+01</td>\n",
       "      <td>-2.508944e+01</td>\n",
       "      <td>0.111263</td>\n",
       "    </tr>\n",
       "    <tr>\n",
       "      <th>25%</th>\n",
       "      <td>0.000000</td>\n",
       "      <td>0.000000</td>\n",
       "      <td>0.000000</td>\n",
       "      <td>0.00000</td>\n",
       "      <td>0.000000</td>\n",
       "      <td>0.000000</td>\n",
       "      <td>9.000000</td>\n",
       "      <td>0.000000</td>\n",
       "      <td>28.000000</td>\n",
       "      <td>1.000000</td>\n",
       "      <td>...</td>\n",
       "      <td>-3.064748e-01</td>\n",
       "      <td>-1.620154e-01</td>\n",
       "      <td>-2.994783e-01</td>\n",
       "      <td>-4.415571e-01</td>\n",
       "      <td>-3.690877e-01</td>\n",
       "      <td>-2.056621e-01</td>\n",
       "      <td>-2.222345e-01</td>\n",
       "      <td>-2.205960e-01</td>\n",
       "      <td>-4.164620e-01</td>\n",
       "      <td>1.652488</td>\n",
       "    </tr>\n",
       "    <tr>\n",
       "      <th>50%</th>\n",
       "      <td>0.000000</td>\n",
       "      <td>0.000000</td>\n",
       "      <td>1.000000</td>\n",
       "      <td>0.00000</td>\n",
       "      <td>1.000000</td>\n",
       "      <td>0.000000</td>\n",
       "      <td>9.000000</td>\n",
       "      <td>1.000000</td>\n",
       "      <td>28.000000</td>\n",
       "      <td>1.000000</td>\n",
       "      <td>...</td>\n",
       "      <td>1.376992e-01</td>\n",
       "      <td>7.193080e-02</td>\n",
       "      <td>-7.530783e-02</td>\n",
       "      <td>2.731690e-02</td>\n",
       "      <td>-1.012318e-01</td>\n",
       "      <td>-4.154810e-02</td>\n",
       "      <td>-4.496799e-02</td>\n",
       "      <td>-8.776521e-03</td>\n",
       "      <td>5.330256e-02</td>\n",
       "      <td>1.875061</td>\n",
       "    </tr>\n",
       "    <tr>\n",
       "      <th>75%</th>\n",
       "      <td>0.000000</td>\n",
       "      <td>1.000000</td>\n",
       "      <td>1.000000</td>\n",
       "      <td>1.00000</td>\n",
       "      <td>1.000000</td>\n",
       "      <td>0.000000</td>\n",
       "      <td>9.000000</td>\n",
       "      <td>1.000000</td>\n",
       "      <td>28.000000</td>\n",
       "      <td>1.000000</td>\n",
       "      <td>...</td>\n",
       "      <td>3.102290e-01</td>\n",
       "      <td>3.072149e-01</td>\n",
       "      <td>2.132128e-01</td>\n",
       "      <td>4.755832e-01</td>\n",
       "      <td>3.838776e-01</td>\n",
       "      <td>1.472332e-01</td>\n",
       "      <td>2.068800e-01</td>\n",
       "      <td>1.610066e-01</td>\n",
       "      <td>3.590523e-01</td>\n",
       "      <td>2.100370</td>\n",
       "    </tr>\n",
       "    <tr>\n",
       "      <th>max</th>\n",
       "      <td>1.000000</td>\n",
       "      <td>1.000000</td>\n",
       "      <td>1.000000</td>\n",
       "      <td>1.00000</td>\n",
       "      <td>1.000000</td>\n",
       "      <td>1.000000</td>\n",
       "      <td>7068.000000</td>\n",
       "      <td>1.000000</td>\n",
       "      <td>9103.000000</td>\n",
       "      <td>1.000000</td>\n",
       "      <td>...</td>\n",
       "      <td>3.612821e+01</td>\n",
       "      <td>4.685504e+01</td>\n",
       "      <td>3.406069e+01</td>\n",
       "      <td>2.667760e+01</td>\n",
       "      <td>3.347541e+01</td>\n",
       "      <td>5.705766e+01</td>\n",
       "      <td>4.293276e+01</td>\n",
       "      <td>6.437960e+01</td>\n",
       "      <td>3.426390e+01</td>\n",
       "      <td>3.722630</td>\n",
       "    </tr>\n",
       "  </tbody>\n",
       "</table>\n",
       "<p>8 rows × 43 columns</p>\n",
       "</div>"
      ],
      "text/plain": [
       "                  0              1              2             3   \\\n",
       "count  200000.000000  200000.000000  200000.000000  200000.00000   \n",
       "mean        0.013170       0.303285       0.658555       0.31099   \n",
       "std         0.114003       0.459678       0.474196       0.46290   \n",
       "min         0.000000       0.000000       0.000000       0.00000   \n",
       "25%         0.000000       0.000000       0.000000       0.00000   \n",
       "50%         0.000000       0.000000       1.000000       0.00000   \n",
       "75%         0.000000       1.000000       1.000000       1.00000   \n",
       "max         1.000000       1.000000       1.000000       1.00000   \n",
       "\n",
       "                  4              5              6              7   \\\n",
       "count  200000.000000  200000.000000  200000.000000  200000.000000   \n",
       "mean        0.688870       0.000055      49.352595       0.658170   \n",
       "std         0.462957       0.007416     233.490245       0.474324   \n",
       "min         0.000000       0.000000       0.000000       0.000000   \n",
       "25%         0.000000       0.000000       9.000000       0.000000   \n",
       "50%         1.000000       0.000000       9.000000       1.000000   \n",
       "75%         1.000000       0.000000       9.000000       1.000000   \n",
       "max         1.000000       1.000000    7068.000000       1.000000   \n",
       "\n",
       "                  8              9   ...            33            34  \\\n",
       "count  200000.000000  200000.000000  ...  2.000000e+05  2.000000e+05   \n",
       "mean       44.660740       0.922405  ... -6.909318e-16 -1.342926e-15   \n",
       "std       162.783195       0.267534  ...  1.000000e+00  1.000000e+00   \n",
       "min         0.000000       0.000000  ... -2.148762e+01 -2.576297e+01   \n",
       "25%        28.000000       1.000000  ... -3.064748e-01 -1.620154e-01   \n",
       "50%        28.000000       1.000000  ...  1.376992e-01  7.193080e-02   \n",
       "75%        28.000000       1.000000  ...  3.102290e-01  3.072149e-01   \n",
       "max      9103.000000       1.000000  ...  3.612821e+01  4.685504e+01   \n",
       "\n",
       "                 35            36            37            38            39  \\\n",
       "count  2.000000e+05  2.000000e+05  2.000000e+05  2.000000e+05  2.000000e+05   \n",
       "mean   2.849347e-15 -1.227107e-15  8.014922e-16  4.691003e-16 -2.590355e-15   \n",
       "std    1.000000e+00  1.000000e+00  1.000000e+00  1.000000e+00  1.000000e+00   \n",
       "min   -2.431370e+01 -1.794091e+01 -1.982840e+01 -3.781235e+01 -2.620229e+01   \n",
       "25%   -2.994783e-01 -4.415571e-01 -3.690877e-01 -2.056621e-01 -2.222345e-01   \n",
       "50%   -7.530783e-02  2.731690e-02 -1.012318e-01 -4.154810e-02 -4.496799e-02   \n",
       "75%    2.132128e-01  4.755832e-01  3.838776e-01  1.472332e-01  2.068800e-01   \n",
       "max    3.406069e+01  2.667760e+01  3.347541e+01  5.705766e+01  4.293276e+01   \n",
       "\n",
       "                 40            41             42  \n",
       "count  2.000000e+05  2.000000e+05  200000.000000  \n",
       "mean   1.314007e-15 -1.633680e-15       1.901053  \n",
       "std    1.000000e+00  1.000000e+00       0.398599  \n",
       "min   -1.866196e+01 -2.508944e+01       0.111263  \n",
       "25%   -2.205960e-01 -4.164620e-01       1.652488  \n",
       "50%   -8.776521e-03  5.330256e-02       1.875061  \n",
       "75%    1.610066e-01  3.590523e-01       2.100370  \n",
       "max    6.437960e+01  3.426390e+01       3.722630  \n",
       "\n",
       "[8 rows x 43 columns]"
      ]
     },
     "execution_count": 46,
     "metadata": {},
     "output_type": "execute_result"
    }
   ],
   "source": [
    "pd.DataFrame(data=x_fraud_processed).describe()"
   ]
  },
  {
   "cell_type": "code",
   "execution_count": 50,
   "metadata": {
    "collapsed": true
   },
   "outputs": [],
   "source": [
    "from keras.optimizers import Adam\n",
    "adam = Adam(learning_rate=1.E-4)\n",
    "clf = AutoEncoder(\n",
    "    hidden_neurons=[30, 20, 30],\n",
    "    hidden_activation='elu',\n",
    "    output_activation='linear',\n",
    "    optimizer=adam,\n",
    "    epochs=4,\n",
    "    batch_size=16,\n",
    "    dropout_rate=0.2,\n",
    "    l2_regularizer=0.0,\n",
    "    validation_size=0.1,\n",
    "    preprocessing=True,\n",
    "    verbose=1,\n",
    "    random_state=1,\n",
    "    contamination=0.1,\n",
    ")"
   ]
  },
  {
   "cell_type": "code",
   "execution_count": 51,
   "metadata": {},
   "outputs": [
    {
     "name": "stdout",
     "output_type": "stream",
     "text": [
      "Model: \"sequential_2\"\n",
      "_________________________________________________________________\n",
      "Layer (type)                 Output Shape              Param #   \n",
      "=================================================================\n",
      "dense_7 (Dense)              (None, 43)                1892      \n",
      "_________________________________________________________________\n",
      "dropout_6 (Dropout)          (None, 43)                0         \n",
      "_________________________________________________________________\n",
      "dense_8 (Dense)              (None, 43)                1892      \n",
      "_________________________________________________________________\n",
      "dropout_7 (Dropout)          (None, 43)                0         \n",
      "_________________________________________________________________\n",
      "dense_9 (Dense)              (None, 30)                1320      \n",
      "_________________________________________________________________\n",
      "dropout_8 (Dropout)          (None, 30)                0         \n",
      "_________________________________________________________________\n",
      "dense_10 (Dense)             (None, 20)                620       \n",
      "_________________________________________________________________\n",
      "dropout_9 (Dropout)          (None, 20)                0         \n",
      "_________________________________________________________________\n",
      "dense_11 (Dense)             (None, 30)                630       \n",
      "_________________________________________________________________\n",
      "dropout_10 (Dropout)         (None, 30)                0         \n",
      "_________________________________________________________________\n",
      "dense_12 (Dense)             (None, 43)                1333      \n",
      "=================================================================\n",
      "Total params: 7,687\n",
      "Trainable params: 7,687\n",
      "Non-trainable params: 0\n",
      "_________________________________________________________________\n",
      "None\n",
      "Train on 180000 samples, validate on 20000 samples\n",
      "Epoch 1/4\n",
      "180000/180000 [==============================] - 41s 227us/step - loss: 0.8918 - val_loss: 0.7038\n",
      "Epoch 2/4\n",
      "180000/180000 [==============================] - 48s 268us/step - loss: 0.7881 - val_loss: 0.6483\n",
      "Epoch 3/4\n",
      "180000/180000 [==============================] - 39s 216us/step - loss: 0.7545 - val_loss: 0.6162\n",
      "Epoch 4/4\n",
      "180000/180000 [==============================] - 40s 224us/step - loss: 0.7333 - val_loss: 0.5917\n"
     ]
    },
    {
     "data": {
      "text/plain": [
       "AutoEncoder(batch_size=16, contamination=0.1, dropout_rate=0.2, epochs=4,\n",
       "      hidden_activation='elu', hidden_neurons=[30, 20, 30],\n",
       "      l2_regularizer=0.0,\n",
       "      loss=<function mean_squared_error at 0x7ff79451fa60>,\n",
       "      optimizer=<keras.optimizers.Adam object at 0x7ff74c2ec6d8>,\n",
       "      output_activation='linear', preprocessing=True, random_state=1,\n",
       "      validation_size=0.1, verbose=1)"
      ]
     },
     "execution_count": 51,
     "metadata": {},
     "output_type": "execute_result"
    }
   ],
   "source": [
    "clf.fit(x_fraud_processed)"
   ]
  },
  {
   "cell_type": "code",
   "execution_count": null,
   "metadata": {
    "collapsed": true
   },
   "outputs": [],
   "source": []
  },
  {
   "cell_type": "code",
   "execution_count": 55,
   "metadata": {
    "collapsed": true
   },
   "outputs": [],
   "source": [
    "y_train_scores = clf.decision_scores_  # raw outlier scores\n",
    "y_train_scores = np.clip(y_train_scores, 0, 50) # for visual purposes"
   ]
  },
  {
   "cell_type": "code",
   "execution_count": 57,
   "metadata": {},
   "outputs": [
    {
     "data": {
      "image/png": "[encoded data removed]",
      "text/plain": [
       "<Figure size 432x288 with 1 Axes>"
      ]
     },
     "metadata": {
      "needs_background": "light"
     },
     "output_type": "display_data"
    }
   ],
   "source": [
    "res = plot_outlier_scores(y_fraud.values, y_train_scores, \n",
    "                          bw=1.0, title='Fraud, Autoencoder outlier scores')"
   ]
  },
  {
   "cell_type": "code",
   "execution_count": null,
   "metadata": {
    "collapsed": true
   },
   "outputs": [],
   "source": [
    "ifo = IsolationForest(n_estimators=100, max_samples=1024, random_state=1, contamination=0.01, behaviour='new')\n",
    "ifo.fit(x_fraud)\n",
    "kdd_isof_scores = - ifo.decision_function(x_fraud)"
   ]
  },
  {
   "cell_type": "code",
   "execution_count": null,
   "metadata": {
    "collapsed": true
   },
   "outputs": [],
   "source": [
    "res = plot_outlier_scores(y_fraud.values, kdd_isof_scores, \n",
    "                          bw=1.0, title='Fraud, Isol outlier scores')"
   ]
  },
  {
   "cell_type": "code",
   "execution_count": null,
   "metadata": {
    "collapsed": true
   },
   "outputs": [],
   "source": []
  },
  {
   "cell_type": "code",
   "execution_count": null,
   "metadata": {
    "collapsed": true
   },
   "outputs": [],
   "source": []
  },
  {
   "cell_type": "code",
   "execution_count": null,
   "metadata": {
    "collapsed": true
   },
   "outputs": [],
   "source": [
    "\n",
    "\n"
   ]
  }
 ],
 "metadata": {
  "kernelspec": {
   "display_name": "Python 3",
   "language": "python",
   "name": "python3"
  },
  "language_info": {
   "codemirror_mode": {
    "name": "ipython",
    "version": 3
   },
   "file_extension": ".py",
   "mimetype": "text/x-python",
   "name": "python",
   "nbconvert_exporter": "python",
   "pygments_lexer": "ipython3",
   "version": "3.6.8"
  }
 },
 "nbformat": 4,
 "nbformat_minor": 2
}
