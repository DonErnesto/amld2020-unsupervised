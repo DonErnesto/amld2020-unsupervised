{
  "nbformat": 4,
  "nbformat_minor": 0,
  "metadata": {
    "kernelspec": {
      "display_name": "Python 3",
      "language": "python",
      "name": "python3"
    },
    "language_info": {
      "codemirror_mode": {
        "name": "ipython",
        "version": 3
      },
      "file_extension": ".py",
      "mimetype": "text/x-python",
      "name": "python",
      "nbconvert_exporter": "python",
      "pygments_lexer": "ipython3",
      "version": "3.7.3"
    },
    "colab": {
      "name": "exercises_1.ipynb",
      "provenance": [],
      "include_colab_link": true
    }
  },
  "cells": [
    {
      "cell_type": "markdown",
      "metadata": {
        "id": "view-in-github",
        "colab_type": "text"
      },
      "source": [
        "<a href=\"https://colab.research.google.com/github/DonErnesto/amld2020-unsupervised/blob/master/notebooks/exercises_1_colab.ipynb\" target=\"_parent\"><img src=\"https://colab.research.google.com/assets/colab-badge.svg\" alt=\"Open In Colab\"/></a>"
      ]
    },
    {
      "cell_type": "markdown",
      "metadata": {
        "id": "0ek6rUiPXRC-",
        "colab_type": "text"
      },
      "source": [
        "## Exercise: Demonstration of several algorithms on the Pen Digits dataset\n",
        "\n",
        "Exercises using the Pen Digits Dataset: https://www.dbs.ifi.lmu.de/research/outlier-evaluation/DAMI/literature/PenDigits/PenDigits_v01.html\n",
        "\n",
        "The data is already present in .pkl format (load the data below).\n",
        "This data set was created by recording the writing pattern of digits on a digital writing pad. The digit \"4\" is downsampled to only 20 instances, making it an outlier. \n",
        "\n",
        "Note that (unlike MNIST), the features do not simply correspond to pixels, but are subsampled coordinates, 8 pairs. \n",
        "\n",
        "This dataset is small and simple: it has only numeric features and no NaN's. "
      ]
    },
    {
      "cell_type": "markdown",
      "metadata": {
        "id": "PpkjzX_2XRDD",
        "colab_type": "text"
      },
      "source": [
        "## Imports"
      ]
    },
    {
      "cell_type": "code",
      "metadata": {
        "id": "_MZmQrSTXRDF",
        "colab_type": "code",
        "colab": {},
        "outputId": "b51b3bd5-c608-4190-b89c-42b1b1944b26"
      },
      "source": [
        "# standard library imports\n",
        "import os\n",
        "import sys\n",
        "from collections import Counter\n",
        "\n",
        "# pandas, seaborn etc.\n",
        "import seaborn as sns\n",
        "import sklearn \n",
        "import matplotlib.pyplot as plt\n",
        "%matplotlib inline\n",
        "import pandas as pd\n",
        "import numpy as np\n",
        "\n",
        "# sklearn outlier models\n",
        "from sklearn.neighbors import NearestNeighbors\n",
        "# from sklearn.neighbors import LocalOutlierFactor\n",
        "# from sklearn.ensemble import IsolationForest\n",
        "from sklearn.cluster import DBSCAN\n",
        "from sklearn.mixture import GaussianMixture\n",
        "\n",
        "# other sklearn functions\n",
        "from sklearn.decomposition import PCA\n",
        "from sklearn.covariance import MinCovDet, EmpiricalCovariance\n",
        "from sklearn.metrics import roc_auc_score\n",
        "from sklearn.preprocessing import StandardScaler, RobustScaler, MinMaxScaler\n",
        "from sklearn.preprocessing import LabelEncoder\n",
        "from sklearn.preprocessing import scale as preproc_scale\n",
        "from sklearn.manifold import TSNE\n",
        "\n",
        "# pyod\n",
        "import pyod\n",
        "from pyod.models.auto_encoder import AutoEncoder\n",
        "from pyod.models.knn import KNN\n",
        "from pyod.models.lof import LOF\n",
        "from pyod.models.pca import PCA\n",
        "from pyod.models.iforest import IForest\n",
        "\n"
      ],
      "execution_count": 0,
      "outputs": [
        {
          "output_type": "stream",
          "text": [
            "Using TensorFlow backend.\n"
          ],
          "name": "stderr"
        }
      ]
    },
    {
      "cell_type": "code",
      "metadata": {
        "id": "yezB1XDoXRDM",
        "colab_type": "code",
        "colab": {}
      },
      "source": [
        "sys.path.append(\"..\") #to enable importing from ../outlierutils\n",
        "from outlierutils import plot_top_N, plot_outlier_scores # For easy plotting and evaluation"
      ],
      "execution_count": 0,
      "outputs": []
    },
    {
      "cell_type": "markdown",
      "metadata": {
        "id": "G9DYhZQRXRDQ",
        "colab_type": "text"
      },
      "source": [
        "## Data loading"
      ]
    },
    {
      "cell_type": "code",
      "metadata": {
        "id": "eZWbReXmXRDS",
        "colab_type": "code",
        "colab": {}
      },
      "source": [
        "data_path = '../data/'\n",
        "x_pen = pd.read_pickle(os.path.join(data_path, 'x_pendigits.pkl'))\n",
        "y_pen = pd.read_pickle(os.path.join(data_path, 'y_pendigits.pkl'))\n",
        "\n",
        "# Scale and put again into a DataFrame\n",
        "sc = StandardScaler()\n",
        "x_pen = pd.DataFrame(data=sc.fit_transform(x_pen))"
      ],
      "execution_count": 0,
      "outputs": []
    },
    {
      "cell_type": "code",
      "metadata": {
        "id": "I7S-ifKHXRDW",
        "colab_type": "code",
        "colab": {},
        "outputId": "ace2384a-2a86-496b-e256-b453942d6691"
      },
      "source": [
        "print('Number of points: {}'.format(len(y_pen)))\n",
        "print('Number of positives: {} ({:.3%})'.format(y_pen.sum(), y_pen.mean()))"
      ],
      "execution_count": 0,
      "outputs": [
        {
          "output_type": "stream",
          "text": [
            "Number of points: 9868\n",
            "Number of positives: 20 (0.203%)\n"
          ],
          "name": "stdout"
        }
      ]
    },
    {
      "cell_type": "markdown",
      "metadata": {
        "id": "wNfjnOzPXRDa",
        "colab_type": "text"
      },
      "source": [
        "## Demo: Usage of plotting functions\n",
        "\n",
        "See examples how to plot the conditional scores and the top-N ranking below"
      ]
    },
    {
      "cell_type": "code",
      "metadata": {
        "id": "UoRWRTJ7XRDb",
        "colab_type": "code",
        "colab": {},
        "outputId": "dcb61a0e-f40e-4665-9559-9aa35d0b2618"
      },
      "source": [
        "# example with random data\n",
        "y_true_, scores_ = np.random.choice([0, 1], 100), np.random.uniform(size=100)\n",
        "results = plot_outlier_scores(y_true=y_true_, \n",
        "                            scores=scores_, \n",
        "                            bw=0.05, \n",
        "                            title='Example.')"
      ],
      "execution_count": 0,
      "outputs": [
        {
          "output_type": "display_data",
          "data": {
            "image/png": "[encoded data removed]",
            "text/plain": [
              "<Figure size 432x288 with 1 Axes>"
            ]
          },
          "metadata": {
            "tags": [],
            "needs_background": "light"
          }
        }
      ]
    },
    {
      "cell_type": "code",
      "metadata": {
        "id": "-t9z-kQmXRDf",
        "colab_type": "code",
        "colab": {},
        "outputId": "1ddf7f08-0c18-4490-8403-9c813630f45c"
      },
      "source": [
        "results = plot_top_N(y_true=y_true_, scores=scores_, N=20)"
      ],
      "execution_count": 0,
      "outputs": [
        {
          "output_type": "display_data",
          "data": {
            "image/png": "[encoded data removed]",
            "text/plain": [
              "<Figure size 1152x144 with 2 Axes>"
            ]
          },
          "metadata": {
            "tags": [],
            "needs_background": "light"
          }
        }
      ]
    },
    {
      "cell_type": "markdown",
      "metadata": {
        "id": "rEz8CtUnXRDj",
        "colab_type": "text"
      },
      "source": [
        "Note that both `plot_outlier_scores` and `plot_top_N` expect numpy arrays. These may be obtained from a pandas Series using `pd.Series.values`\n"
      ]
    },
    {
      "cell_type": "markdown",
      "metadata": {
        "id": "PYAj1uk-XRDk",
        "colab_type": "text"
      },
      "source": [
        "## 0. : Data visualization\n",
        "\n",
        "t-SNE of large datasets may take a long time to compute. The next piece of code will downsample the negatives, while retaining all positives. "
      ]
    },
    {
      "cell_type": "code",
      "metadata": {
        "id": "qyCIYfQ1XRDm",
        "colab_type": "code",
        "colab": {}
      },
      "source": [
        "N_downsample = 3000\n",
        "assert x_pen.index.equals(y_pen.index), 'Error, indexes differ. Reset them to continue'\n",
        "x_downsampled = pd.concat((x_pen[y_pen==0].sample(N_downsample - int(y_pen.sum()), random_state=1),\n",
        "                           x_pen[y_pen==1]), \n",
        "                          axis=0).sample(frac=1, random_state=1)\n",
        "y_downsampled = y_pen[x_downsampled.index]"
      ],
      "execution_count": 0,
      "outputs": []
    },
    {
      "cell_type": "markdown",
      "metadata": {
        "id": "MsdYtlq4XRDp",
        "colab_type": "text"
      },
      "source": [
        "\n",
        "Q 0. Reduce the dimensionality with T-SNE, and visualize the positive and negative class in a scatter plot. \n",
        "What do you observe?\n",
        "\n",
        "**Hint**: To get the correct arguments of TSNE, run `?TSNE`  "
      ]
    },
    {
      "cell_type": "code",
      "metadata": {
        "id": "Ot6Rjgh3XRDr",
        "colab_type": "code",
        "colab": {}
      },
      "source": [
        "?TSNE"
      ],
      "execution_count": 0,
      "outputs": []
    },
    {
      "cell_type": "code",
      "metadata": {
        "id": "q2xlTCF8XRDw",
        "colab_type": "code",
        "colab": {}
      },
      "source": [
        "MAX_N_TSNE = 4000 #Avoid overly long computation times with TSNE. Values < 4000 recommended \n",
        "neg = y_downsampled == 0\n",
        "pos = y_downsampled == 1\n",
        "\n",
        "assert len(x_downsampled) <= MAX_N_TSNE, 'Using a dataset with more than {} points is not recommended'.format(\n",
        "                                            MAX_N_TSNE)\n",
        "#X_2D = TSNE(xxxx).fit_transform(xxxx) # transform to 2-D space for plotting\n",
        "#fig, ax = plt.subplots(1, 1, figsize=(8, 8))\n",
        "#ax.scatter(X_2D[pos, 0], X_2D[pos, 1], c=[[0.8, 0.4, 0.4],], marker='x', s=120, label='Positive')\n",
        "#ax.scatter(X_2D[neg, 0], X_2D[neg, 1], c=[[0.2, 0.3, 0.9],], marker='o', s=10, label='Negative')\n",
        "\n",
        "#plt.axis('off')\n",
        "#plt.legend()\n",
        "#plt.show() "
      ],
      "execution_count": 0,
      "outputs": []
    },
    {
      "cell_type": "code",
      "metadata": {
        "id": "X2If-bL_XRD0",
        "colab_type": "code",
        "colab": {}
      },
      "source": [
        "del x_downsampled, y_downsampled # To avoid using the wrong data later\n"
      ],
      "execution_count": 0,
      "outputs": []
    },
    {
      "cell_type": "markdown",
      "metadata": {
        "id": "2bG8lvWHXRD4",
        "colab_type": "text"
      },
      "source": [
        "## 1a. Mahalonobis Distance, single cluster\n",
        "\n",
        "Using `EmpiricalCovariance`, or `MinCovDet` (a robust estimator), do a `.fit()` to fit the covariance matrix. \n",
        "Determine the distance with `.mahalonobis()` and use this as outlier score. Get the Area Under the ROC-Curve and Precision@100 using `plot_outlier_scores` and `plot_top_N`"
      ]
    },
    {
      "cell_type": "code",
      "metadata": {
        "id": "ccuvoVeuXRD5",
        "colab_type": "code",
        "colab": {}
      },
      "source": [
        "# cov_ = EmpiricalCovariance().fit(x_pen)\n"
      ],
      "execution_count": 0,
      "outputs": []
    },
    {
      "cell_type": "code",
      "metadata": {
        "id": "EqXjIRl4XRD9",
        "colab_type": "code",
        "colab": {}
      },
      "source": [
        ""
      ],
      "execution_count": 0,
      "outputs": []
    },
    {
      "cell_type": "markdown",
      "metadata": {
        "id": "a8vuJdRqXREB",
        "colab_type": "text"
      },
      "source": [
        "## 1b. Mahalonobis Distance, GMM\n",
        "\n",
        "Using `GaussianMixture`, with a reasonable value for n_components and `covariance_type=full`, do a `.fit()` and `.score_samples()` to get the log-probability of each sample. The negative log-probability will be the outlier score.\n"
      ]
    },
    {
      "cell_type": "code",
      "metadata": {
        "id": "8_GZr5wnXREC",
        "colab_type": "code",
        "colab": {}
      },
      "source": [
        "# gmm = GaussianMixture(n_components=xxxx, covariance_type='full', random_state=1) # try also spherical\n",
        "# gmm.fit(x_pen)\n"
      ],
      "execution_count": 0,
      "outputs": []
    },
    {
      "cell_type": "code",
      "metadata": {
        "id": "gO5libBVXREF",
        "colab_type": "code",
        "colab": {}
      },
      "source": [
        ""
      ],
      "execution_count": 0,
      "outputs": []
    },
    {
      "cell_type": "markdown",
      "metadata": {
        "id": "aSmshkOrXREJ",
        "colab_type": "text"
      },
      "source": [
        "### 2. KNN algorithm\n"
      ]
    },
    {
      "cell_type": "markdown",
      "metadata": {
        "id": "uhGPDlfMXREK",
        "colab_type": "text"
      },
      "source": [
        "#### Q 2.1 \n",
        "With the scikit-learn NearestNeighbors class, determine the probability of the nearest neighbour of a point being an outlier, conditional on the class membership of that point. Note how this corresponds to the observations from the t-SNE visualization\n",
        " \n",
        "**HINT**: \n",
        "- *The output of clf.kneighbors() (after doing clf.fit()) is a tuple, the first element being an array with distances, the second element being an array with indexes of neighbours. The first column corresponds to the points themselves. The code provided in the next cell may be used to get the indices of the nearest neighbour of all points.*"
      ]
    },
    {
      "cell_type": "code",
      "metadata": {
        "id": "3znxlv8JXREL",
        "colab_type": "code",
        "colab": {}
      },
      "source": [
        "# clf_nn = NearestNeighbors(n_neighbors=...)\n",
        "# clf_nn.fit(x_pen)\n",
        "# nearest_1st_n = clf_nn.kneighbors(x_pen)[1][:, 1] # to get the indices of the first nearest neighbour for each point\n",
        "\n",
        "## Next, get the conditional mean by subsetting nearest_1st_ns with y_pen==1 or y_pen==0"
      ],
      "execution_count": 0,
      "outputs": []
    },
    {
      "cell_type": "code",
      "metadata": {
        "id": "J3qVnH6fXREP",
        "colab_type": "code",
        "colab": {}
      },
      "source": [
        ""
      ],
      "execution_count": 0,
      "outputs": []
    },
    {
      "cell_type": "markdown",
      "metadata": {
        "id": "szXc5TTLXRES",
        "colab_type": "text"
      },
      "source": [
        "#### Q 2.2 \n",
        "Use pyod's KNN class to detect the outliers. \n",
        "Use `method=median`, and guess a reasonable value for `n_neighbors`based on the insights from t-SNE and the previous question. \n",
        "\n",
        "Plot the conditional score curves and the top-100 results, using `plot_outlier_scores` and `plot_top_N`. \n",
        "\n",
        "Vary n_neighbors, how does it affect AUC and precision@100?\n",
        "\n",
        "**HINT**: \n",
        "- *Use clf.decision_scores_ (an attribute of all pyod's detectors) to get the outlier scores (and not the binary labels, that are stored in clf.labels_)*\n"
      ]
    },
    {
      "cell_type": "code",
      "metadata": {
        "id": "4lBoapdtXRET",
        "colab_type": "code",
        "colab": {}
      },
      "source": [
        "# clf = KNN(method='median', n_neighbors=xxx)\n",
        "# clf.fit()\n",
        "# get the prediction label and outlier scores of the training data\n",
        "# y_train_pred = clf.labels_  # binary labels (0: inliers, 1: outliers)\n",
        "# y_train_scores = clf.decision_scores_  # raw outlier scores (use these for scoring!)"
      ],
      "execution_count": 0,
      "outputs": []
    },
    {
      "cell_type": "code",
      "metadata": {
        "id": "L4CeOabgXREb",
        "colab_type": "code",
        "colab": {}
      },
      "source": [
        ""
      ],
      "execution_count": 0,
      "outputs": []
    },
    {
      "cell_type": "markdown",
      "metadata": {
        "id": "rwitTO-zXREi",
        "colab_type": "text"
      },
      "source": [
        "### 3. LOF algorithm\n",
        "\n",
        "Note that the LOF algorithm compares the \"reachability density\" of a point to its k nearest neighbours, compared to that same density of its nearest neighbours.\n",
        "\n",
        "Also here, we will use a pyod class. Therefore, we can use the same method- and attribute names. \n",
        "\n",
        "#### Q 3.1 \n",
        "Considering the concept that underlies LOF, and the results from the t-SNE/Nearest neighbour analysis, do you expect LOF to do better than KNN with n_neighbours=10? Why?\n",
        "\n",
        "#### Q 3.2\n",
        "Plot the scoring curves for a few values of n_neighbours. What is a good value?\n",
        "\n"
      ]
    },
    {
      "cell_type": "code",
      "metadata": {
        "id": "nx27obXAXREj",
        "colab_type": "code",
        "colab": {}
      },
      "source": [
        "# lof = LocalOutlierFactor(n_neighbors=n_neighbours, contamination=0.01)\n",
        "\n",
        "\n"
      ],
      "execution_count": 0,
      "outputs": []
    },
    {
      "cell_type": "markdown",
      "metadata": {
        "id": "ZRWOMPbQXREm",
        "colab_type": "text"
      },
      "source": [
        "### 4. Isolation Forest\n",
        "\n",
        "#### Q 4.1 \n",
        "What disadvantage of Isolation Forest do you see compared to the previous algorithms?\n",
        "\n",
        "#### Q 4.2\n",
        "Run an `IsolationForest`analysis with a reasonable set of parameters\n"
      ]
    },
    {
      "cell_type": "code",
      "metadata": {
        "id": "K7cCNH3mXREo",
        "colab_type": "code",
        "colab": {}
      },
      "source": [
        "# ifo = IsolationForest(xxx, behaviour='new')\n",
        "# NB: in contradiction to the documentation, there is no .decision_scores_ attribute for iForest\n"
      ],
      "execution_count": 0,
      "outputs": []
    },
    {
      "cell_type": "code",
      "metadata": {
        "id": "Xi2BoTkHXREr",
        "colab_type": "code",
        "colab": {}
      },
      "source": [
        ""
      ],
      "execution_count": 0,
      "outputs": []
    },
    {
      "cell_type": "markdown",
      "metadata": {
        "id": "2f48xOw1XREv",
        "colab_type": "text"
      },
      "source": [
        "#### (optional) Q 4.3 \n",
        "Compare the scatter in AUC scores by running ten times the Isolation Forest, with different `random_state`s, for `n_estimators`=100"
      ]
    },
    {
      "cell_type": "markdown",
      "metadata": {
        "id": "BGtFjL2LXREw",
        "colab_type": "text"
      },
      "source": [
        "### 5. PCA reconstruction error\n",
        "\n",
        "#### Q 5.1\n",
        "What number of components would you estimate to be suffificient? How may it be determined?\n",
        "\n",
        "#### Q 5.2\n",
        "Determine the Euclidean reconstruction error, by first transforming the data, and then applying the inverse transform.\n",
        "\n",
        "**Use the sci-kit learn implementation, rather than pyod's PCA class. This one seems not to be implemented well**\n"
      ]
    },
    {
      "cell_type": "code",
      "metadata": {
        "id": "xHJxho4XXREx",
        "colab_type": "code",
        "colab": {}
      },
      "source": [
        "# pca = PCA(n_components=...)\n",
        "# pca_tf = ... \n",
        "# x_pen_recon = ..."
      ],
      "execution_count": 0,
      "outputs": []
    },
    {
      "cell_type": "code",
      "metadata": {
        "id": "lNEDQ2x5XRE1",
        "colab_type": "code",
        "colab": {}
      },
      "source": [
        "# pca_recon = ((x_pen - x_pen_recon)**2).mean(axis=1)\n"
      ],
      "execution_count": 0,
      "outputs": []
    },
    {
      "cell_type": "markdown",
      "metadata": {
        "id": "i66XnUj9XRE6",
        "colab_type": "text"
      },
      "source": [
        "### 7. Autoencoder reconstruction error"
      ]
    },
    {
      "cell_type": "markdown",
      "metadata": {
        "id": "h7UIPvSqXRE9",
        "colab_type": "text"
      },
      "source": [
        "#### Q 7.1\n",
        "\n",
        "Run the autoencoder with a bottleneck size that worked well for PCA. Run for ~15 epochs and look at AUC score. \n",
        "Many different configurations (number of hidden layers, number of neurons) may be used, but pick one. \n",
        "\n"
      ]
    },
    {
      "cell_type": "code",
      "metadata": {
        "id": "q5xiJQPDXRE-",
        "colab_type": "code",
        "colab": {}
      },
      "source": [
        "if False:\n",
        "    clf = AutoEncoder(\n",
        "        hidden_neurons=[xx, xx, xx],\n",
        "        hidden_activation='elu',\n",
        "        output_activation='linear',\n",
        "        optimizer='adam',\n",
        "        epochs=15,\n",
        "        batch_size=16,\n",
        "        dropout_rate=0.0, #may not be needed here\n",
        "        l2_regularizer=0.0,\n",
        "        validation_size=0.1,\n",
        "        preprocessing=False, #NB: this uses sklearn's StandardScaler\n",
        "        verbose=1,\n",
        "        random_state=1,\n",
        "    )\n"
      ],
      "execution_count": 0,
      "outputs": []
    },
    {
      "cell_type": "code",
      "metadata": {
        "id": "y_9mM-oYXRFB",
        "colab_type": "code",
        "colab": {}
      },
      "source": [
        "# clf.fit(x_pen)\n"
      ],
      "execution_count": 0,
      "outputs": []
    },
    {
      "cell_type": "markdown",
      "metadata": {
        "id": "4xX5_epEXRFF",
        "colab_type": "text"
      },
      "source": [
        "#### Q 8 \n",
        "\n",
        "- Which algorithm performed best?\n",
        "- Can it be reasonably \"tuned\" without having the labels available?\n"
      ]
    },
    {
      "cell_type": "markdown",
      "metadata": {
        "id": "3aFX4ifwXRFG",
        "colab_type": "text"
      },
      "source": [
        "#### Q 9\n",
        "\n",
        "Run the next code, that replaces the original outliers with sythesized ones (combining the first 8 and last 8 features of randomly chosen observations), and run the analysis again. What differences do you observe?\n"
      ]
    },
    {
      "cell_type": "code",
      "metadata": {
        "id": "YUmNdA97XRFJ",
        "colab_type": "code",
        "colab": {}
      },
      "source": [
        "new_values = pd.concat((x_pen.sample(20, random_state=1).iloc[:, :8].reset_index(drop=True),\n",
        "                        x_pen.sample(20, random_state=2).iloc[:, 8:].reset_index(drop=True)),\n",
        "                 axis=1).set_index(y_pen[y_pen==1].index)\n",
        "x_pen.loc[y_pen==1, :] = new_values"
      ],
      "execution_count": 0,
      "outputs": []
    },
    {
      "cell_type": "code",
      "metadata": {
        "id": "xavaLny_XRFU",
        "colab_type": "code",
        "colab": {}
      },
      "source": [
        ""
      ],
      "execution_count": 0,
      "outputs": []
    },
    {
      "cell_type": "code",
      "metadata": {
        "id": "FwQUNlojXRFX",
        "colab_type": "code",
        "colab": {}
      },
      "source": [
        ""
      ],
      "execution_count": 0,
      "outputs": []
    },
    {
      "cell_type": "code",
      "metadata": {
        "id": "lvz0pAPzXRFa",
        "colab_type": "code",
        "colab": {}
      },
      "source": [
        ""
      ],
      "execution_count": 0,
      "outputs": []
    }
  ]
}